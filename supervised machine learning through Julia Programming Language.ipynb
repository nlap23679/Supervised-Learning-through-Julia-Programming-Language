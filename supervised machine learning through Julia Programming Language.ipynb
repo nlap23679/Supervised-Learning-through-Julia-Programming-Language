{
 "cells": [
  {
   "cell_type": "code",
   "execution_count": 1,
   "metadata": {},
   "outputs": [
    {
     "name": "stderr",
     "output_type": "stream",
     "text": [
      "\u001b[32m\u001b[1m Activating\u001b[22m\u001b[39m new environment at `C:\\Users\\Avinash\\Project.toml`\n"
     ]
    }
   ],
   "source": [
    "using Pkg\n",
    "pkg\"activate .\""
   ]
  },
  {
   "cell_type": "code",
   "execution_count": 3,
   "metadata": {},
   "outputs": [
    {
     "name": "stderr",
     "output_type": "stream",
     "text": [
      "\u001b[32m\u001b[1m   Updating\u001b[22m\u001b[39m registry at `C:\\Users\\Avinash\\.julia\\registries\\General`\n",
      "\u001b[32m\u001b[1mNo Changes\u001b[22m\u001b[39m to `C:\\Users\\Avinash\\Project.toml`\n",
      "\u001b[32m\u001b[1mNo Changes\u001b[22m\u001b[39m to `C:\\Users\\Avinash\\Manifest.toml`\n"
     ]
    }
   ],
   "source": [
    "pkg\"instantiate\""
   ]
  },
  {
   "cell_type": "code",
   "execution_count": 4,
   "metadata": {},
   "outputs": [],
   "source": [
    "using DelimitedFiles"
   ]
  },
  {
   "cell_type": "code",
   "execution_count": 5,
   "metadata": {},
   "outputs": [
    {
     "data": {
      "text/plain": [
       "20×9 Array{Any,2}:\n",
       " \"Bala (2019)\"                      0  0  0  1  0  0  0  0\n",
       " \"The Wonderland (2019)\"            1  1  1  0  0  0  0  0\n",
       " \"key (2019)\"                       0  0  0  1  0  1  0  1\n",
       " \"paharganj(2019)\"                  0  0  0  1  0  1  0  0\n",
       " \"kabir singh (2019)\"               0  0  1  1  0  0  1  0\n",
       " \"The lion king (2019)\"             1  0  0  0  1  0  0  0\n",
       " \"super 30 (2019)\"                  0  0  0  1  0  0  0  0\n",
       " \"frozen 2 (2019)\"                  0  1  0  0  0  0  0  0\n",
       " \"shazam (2019)\"                    1  0  0  0  0  0  0  1\n",
       " \"how to train your dragan (2019)\"  1  1  0  0  0  0  0  0\n",
       " \"The zoya factor (2019)\"           0  0  0  1  0  0  0  0\n",
       " \"Made in china (2019)\"             0  0  0  1  0  0  0  0\n",
       " \"housefull 4(2019)\"                0  0  0  1  0  0  0  0\n",
       " \"Badla (2019)\"                     0  0  0  1  0  0  0  0\n",
       " \"Article 15 (2019)\"                0  0  0  1  0  0  0  0\n",
       " \"kesari(2019)\"                     0  0  0  1  0  0  0  0\n",
       " \"panipat (2019)\"                   0  0  0  1  0  0  0  0\n",
       " \"petta(2019)\"                      0  0  0  1  0  0  0  0\n",
       " \"Bypass road(2019)\"                0  0  0  1  0  0  0  0\n",
       " \"manikarika (2019)\"                0  0  0  1  0  0  0  0"
      ]
     },
     "execution_count": 5,
     "metadata": {},
     "output_type": "execute_result"
    }
   ],
   "source": [
    "movies = readdlm(\"top_20_movies.tsv\", '\\t', skipstart=1)"
   ]
  },
  {
   "cell_type": "code",
   "execution_count": 6,
   "metadata": {},
   "outputs": [
    {
     "data": {
      "text/plain": [
       "1×9 Array{Any,2}:\n",
       " \"mardaani2 (2019)\"  0  0  0  1  0  0  0  0"
      ]
     },
     "execution_count": 6,
     "metadata": {},
     "output_type": "execute_result"
    }
   ],
   "source": [
    "mardaani2 = [\"mardaani2 (2019)\" 0 0 0 1 0 0 0 0]"
   ]
  },
  {
   "cell_type": "code",
   "execution_count": 7,
   "metadata": {},
   "outputs": [
    {
     "data": {
      "text/plain": [
       "21×9 Array{Any,2}:\n",
       " \"Bala (2019)\"                      0  0  0  1  0  0  0  0\n",
       " \"The Wonderland (2019)\"            1  1  1  0  0  0  0  0\n",
       " \"key (2019)\"                       0  0  0  1  0  1  0  1\n",
       " \"paharganj(2019)\"                  0  0  0  1  0  1  0  0\n",
       " \"kabir singh (2019)\"               0  0  1  1  0  0  1  0\n",
       " \"The lion king (2019)\"             1  0  0  0  1  0  0  0\n",
       " \"super 30 (2019)\"                  0  0  0  1  0  0  0  0\n",
       " \"frozen 2 (2019)\"                  0  1  0  0  0  0  0  0\n",
       " \"shazam (2019)\"                    1  0  0  0  0  0  0  1\n",
       " \"how to train your dragan (2019)\"  1  1  0  0  0  0  0  0\n",
       " \"The zoya factor (2019)\"           0  0  0  1  0  0  0  0\n",
       " \"Made in china (2019)\"             0  0  0  1  0  0  0  0\n",
       " \"housefull 4(2019)\"                0  0  0  1  0  0  0  0\n",
       " \"Badla (2019)\"                     0  0  0  1  0  0  0  0\n",
       " \"Article 15 (2019)\"                0  0  0  1  0  0  0  0\n",
       " \"kesari(2019)\"                     0  0  0  1  0  0  0  0\n",
       " \"panipat (2019)\"                   0  0  0  1  0  0  0  0\n",
       " \"petta(2019)\"                      0  0  0  1  0  0  0  0\n",
       " \"Bypass road(2019)\"                0  0  0  1  0  0  0  0\n",
       " \"manikarika (2019)\"                0  0  0  1  0  0  0  0\n",
       " \"mardaani2 (2019)\"                 0  0  0  1  0  0  0  0"
      ]
     },
     "execution_count": 7,
     "metadata": {},
     "output_type": "execute_result"
    }
   ],
   "source": [
    "movies = vcat(movies, mardaani2)"
   ]
  },
  {
   "cell_type": "code",
   "execution_count": 8,
   "metadata": {},
   "outputs": [
    {
     "name": "stderr",
     "output_type": "stream",
     "text": [
      "\u001b[32m\u001b[1m  Resolving\u001b[22m\u001b[39m package versions...\n",
      "\u001b[32m\u001b[1mUpdating\u001b[22m\u001b[39m `C:\\Users\\Avinash\\Project.toml`\n",
      " \u001b[90m [b4f34e82] \u001b[39m\u001b[92m+ Distances v0.10.0\u001b[39m\n",
      "\u001b[32m\u001b[1mUpdating\u001b[22m\u001b[39m `C:\\Users\\Avinash\\Manifest.toml`\n",
      " \u001b[90m [b4f34e82] \u001b[39m\u001b[92m+ Distances v0.10.0\u001b[39m\n",
      " \u001b[90m [8f399da3] \u001b[39m\u001b[92m+ Libdl\u001b[39m\n",
      " \u001b[90m [37e2e46d] \u001b[39m\u001b[92m+ LinearAlgebra\u001b[39m\n",
      " \u001b[90m [9a3f8284] \u001b[39m\u001b[92m+ Random\u001b[39m\n",
      " \u001b[90m [9e88b42a] \u001b[39m\u001b[92m+ Serialization\u001b[39m\n",
      " \u001b[90m [2f01184e] \u001b[39m\u001b[92m+ SparseArrays\u001b[39m\n",
      " \u001b[90m [10745b16] \u001b[39m\u001b[92m+ Statistics\u001b[39m\n"
     ]
    }
   ],
   "source": [
    "using Pkg\n",
    "pkg\"add Distances\""
   ]
  },
  {
   "cell_type": "code",
   "execution_count": 9,
   "metadata": {},
   "outputs": [
    {
     "name": "stderr",
     "output_type": "stream",
     "text": [
      "┌ Info: Precompiling CSV [336ed68f-0bac-5ca0-87d4-7b16caf5d00b]\n",
      "└ @ Base loading.jl:1278\n"
     ]
    }
   ],
   "source": [
    "using Distances\n",
    "using CSV"
   ]
  },
  {
   "cell_type": "code",
   "execution_count": 10,
   "metadata": {},
   "outputs": [
    {
     "data": {
      "text/plain": [
       "Dict{String,Int64}()"
      ]
     },
     "execution_count": 10,
     "metadata": {},
     "output_type": "execute_result"
    }
   ],
   "source": [
    "distances = Dict{String,Int}()"
   ]
  },
  {
   "cell_type": "code",
   "execution_count": 11,
   "metadata": {},
   "outputs": [],
   "source": [
    "for i in 1:size(movies, 1)\n",
    "    distances[movies[i,:][1]] =  hamming(Int[movies[i,2:end]...], Int[mardaani2[2:end]...])\n",
    "end"
   ]
  },
  {
   "cell_type": "code",
   "execution_count": 12,
   "metadata": {},
   "outputs": [
    {
     "data": {
      "text/plain": [
       "Dict{String,Int64} with 21 entries:\n",
       "  \"how to train your dragan (2019)\" => 3\n",
       "  \"Bala (2019)\"                     => 0\n",
       "  \"paharganj(2019)\"                 => 1\n",
       "  \"Made in china (2019)\"            => 0\n",
       "  \"The Wonderland (2019)\"           => 4\n",
       "  \"super 30 (2019)\"                 => 0\n",
       "  \"frozen 2 (2019)\"                 => 2\n",
       "  \"petta(2019)\"                     => 0\n",
       "  \"manikarika (2019)\"               => 0\n",
       "  \"mardaani2 (2019)\"                => 0\n",
       "  \"key (2019)\"                      => 2\n",
       "  \"The zoya factor (2019)\"          => 0\n",
       "  \"kesari(2019)\"                    => 0\n",
       "  \"shazam (2019)\"                   => 3\n",
       "  \"Badla (2019)\"                    => 0\n",
       "  \"panipat (2019)\"                  => 0\n",
       "  \"Article 15 (2019)\"               => 0\n",
       "  \"housefull 4(2019)\"               => 0\n",
       "  \"kabir singh (2019)\"              => 2\n",
       "  \"The lion king (2019)\"            => 3\n",
       "  \"Bypass road(2019)\"               => 0"
      ]
     },
     "execution_count": 12,
     "metadata": {},
     "output_type": "execute_result"
    }
   ],
   "source": [
    "distances"
   ]
  },
  {
   "cell_type": "code",
   "execution_count": 12,
   "metadata": {},
   "outputs": [],
   "source": [
    "#movies = CSV.read(\"C:/Users/hp/.julia/top_20_movies_user_rankings.CSV\", ';')"
   ]
  },
  {
   "cell_type": "code",
   "execution_count": 13,
   "metadata": {},
   "outputs": [
    {
     "name": "stderr",
     "output_type": "stream",
     "text": [
      "\u001b[32m\u001b[1m  Resolving\u001b[22m\u001b[39m package versions...\n",
      "\u001b[32m\u001b[1mUpdating\u001b[22m\u001b[39m `C:\\Users\\Avinash\\Project.toml`\n",
      " \u001b[90m [336ed68f] \u001b[39m\u001b[92m+ CSV v0.8.0\u001b[39m\n",
      "\u001b[32m\u001b[1mUpdating\u001b[22m\u001b[39m `C:\\Users\\Avinash\\Manifest.toml`\n",
      " \u001b[90m [336ed68f] \u001b[39m\u001b[92m+ CSV v0.8.0\u001b[39m\n",
      " \u001b[90m [9a962f9c] \u001b[39m\u001b[92m+ DataAPI v1.4.0\u001b[39m\n",
      " \u001b[90m [e2d170a0] \u001b[39m\u001b[92m+ DataValueInterfaces v1.0.0\u001b[39m\n",
      " \u001b[90m [82899510] \u001b[39m\u001b[92m+ IteratorInterfaceExtensions v1.0.0\u001b[39m\n",
      " \u001b[90m [69de0a69] \u001b[39m\u001b[92m+ Parsers v1.0.12\u001b[39m\n",
      " \u001b[90m [2dfb63ee] \u001b[39m\u001b[92m+ PooledArrays v0.5.3\u001b[39m\n",
      " \u001b[90m [91c51154] \u001b[39m\u001b[92m+ SentinelArrays v1.2.16\u001b[39m\n",
      " \u001b[90m [3783bdb8] \u001b[39m\u001b[92m+ TableTraits v1.0.0\u001b[39m\n",
      " \u001b[90m [bd369af6] \u001b[39m\u001b[92m+ Tables v1.2.1\u001b[39m\n",
      " \u001b[90m [2a0f44e3] \u001b[39m\u001b[92m+ Base64\u001b[39m\n",
      " \u001b[90m [ade2ca70] \u001b[39m\u001b[92m+ Dates\u001b[39m\n",
      " \u001b[90m [8ba89e20] \u001b[39m\u001b[92m+ Distributed\u001b[39m\n",
      " \u001b[90m [b77e0a4c] \u001b[39m\u001b[92m+ InteractiveUtils\u001b[39m\n",
      " \u001b[90m [56ddb016] \u001b[39m\u001b[92m+ Logging\u001b[39m\n",
      " \u001b[90m [d6f4376e] \u001b[39m\u001b[92m+ Markdown\u001b[39m\n",
      " \u001b[90m [a63ad114] \u001b[39m\u001b[92m+ Mmap\u001b[39m\n",
      " \u001b[90m [de0858da] \u001b[39m\u001b[92m+ Printf\u001b[39m\n",
      " \u001b[90m [6462fe0b] \u001b[39m\u001b[92m+ Sockets\u001b[39m\n",
      " \u001b[90m [8dfed614] \u001b[39m\u001b[92m+ Test\u001b[39m\n",
      " \u001b[90m [4ec0a83e] \u001b[39m\u001b[92m+ Unicode\u001b[39m\n",
      "\u001b[32m\u001b[1m  Resolving\u001b[22m\u001b[39m package versions...\n",
      "\u001b[32m\u001b[1mUpdating\u001b[22m\u001b[39m `C:\\Users\\Avinash\\Project.toml`\n",
      " \u001b[90m [a93c6f00] \u001b[39m\u001b[92m+ DataFrames v0.21.8\u001b[39m\n",
      "\u001b[32m\u001b[1mUpdating\u001b[22m\u001b[39m `C:\\Users\\Avinash\\Manifest.toml`\n",
      " \u001b[90m [324d7699] \u001b[39m\u001b[92m+ CategoricalArrays v0.8.3\u001b[39m\n",
      " \u001b[90m [34da2185] \u001b[39m\u001b[92m+ Compat v3.23.0\u001b[39m\n",
      " \u001b[90m [a93c6f00] \u001b[39m\u001b[92m+ DataFrames v0.21.8\u001b[39m\n",
      " \u001b[90m [864edb3b] \u001b[39m\u001b[92m+ DataStructures v0.18.8\u001b[39m\n",
      " \u001b[90m [41ab1584] \u001b[39m\u001b[92m+ InvertedIndices v1.0.0\u001b[39m\n",
      " \u001b[90m [682c06a0] \u001b[39m\u001b[92m+ JSON v0.21.1\u001b[39m\n",
      " \u001b[90m [e1d29d7a] \u001b[39m\u001b[92m+ Missings v0.4.4\u001b[39m\n",
      " \u001b[90m [bac558e1] \u001b[39m\u001b[92m+ OrderedCollections v1.3.2\u001b[39m\n",
      " \u001b[90m [189a3867] \u001b[39m\u001b[92m+ Reexport v0.2.0\u001b[39m\n",
      " \u001b[90m [a2af1166] \u001b[39m\u001b[92m+ SortingAlgorithms v0.3.1\u001b[39m\n",
      " \u001b[90m [856f2bd8] \u001b[39m\u001b[92m+ StructTypes v1.1.0\u001b[39m\n",
      " \u001b[90m [8bb1440f] \u001b[39m\u001b[92m+ DelimitedFiles\u001b[39m\n",
      " \u001b[90m [9fa8497b] \u001b[39m\u001b[92m+ Future\u001b[39m\n",
      " \u001b[90m [76f85450] \u001b[39m\u001b[92m+ LibGit2\u001b[39m\n",
      " \u001b[90m [44cfe95a] \u001b[39m\u001b[92m+ Pkg\u001b[39m\n",
      " \u001b[90m [3fa0cd96] \u001b[39m\u001b[92m+ REPL\u001b[39m\n",
      " \u001b[90m [ea8e919c] \u001b[39m\u001b[92m+ SHA\u001b[39m\n",
      " \u001b[90m [1a1011a3] \u001b[39m\u001b[92m+ SharedArrays\u001b[39m\n",
      " \u001b[90m [cf7118a7] \u001b[39m\u001b[92m+ UUIDs\u001b[39m\n"
     ]
    }
   ],
   "source": [
    "#pkg\"add DataFrames CSV\"\n",
    "import Pkg\n",
    "Pkg.add(\"CSV\")\n",
    "Pkg.add(\"DataFrames\")\n",
    "using CSV, DataFrames"
   ]
  },
  {
   "cell_type": "code",
   "execution_count": 14,
   "metadata": {},
   "outputs": [
    {
     "name": "stderr",
     "output_type": "stream",
     "text": [
      "\u001b[32m\u001b[1m  Resolving\u001b[22m\u001b[39m package versions...\n",
      "\u001b[32m\u001b[1mUpdating\u001b[22m\u001b[39m `C:\\Users\\Avinash\\Project.toml`\n",
      " \u001b[90m [ce6b1742] \u001b[39m\u001b[92m+ RDatasets v0.7.1\u001b[39m\n",
      "\u001b[32m\u001b[1mUpdating\u001b[22m\u001b[39m `C:\\Users\\Avinash\\Manifest.toml`\n",
      " \u001b[90m [56f22d72] \u001b[39m\u001b[92m+ Artifacts v1.3.0\u001b[39m\n",
      " \u001b[90m [944b1d66] \u001b[39m\u001b[92m+ CodecZlib v0.7.0\u001b[39m\n",
      " \u001b[90m [e2ba6199] \u001b[39m\u001b[92m+ ExprTools v0.1.3\u001b[39m\n",
      " \u001b[90m [8f5d6c58] \u001b[39m\u001b[92m+ EzXML v1.1.0\u001b[39m\n",
      " \u001b[90m [5789e2e9] \u001b[39m\u001b[92m+ FileIO v1.4.4\u001b[39m\n",
      " \u001b[90m [692b3bcd] \u001b[39m\u001b[92m+ JLLWrappers v1.1.3\u001b[39m\n",
      " \u001b[90m [94ce4f54] \u001b[39m\u001b[92m+ Libiconv_jll v1.16.0+7\u001b[39m\n",
      " \u001b[90m [78c3b35d] \u001b[39m\u001b[92m+ Mocking v0.7.1\u001b[39m\n",
      " \u001b[90m [df47a6cb] \u001b[39m\u001b[92m+ RData v0.7.2\u001b[39m\n",
      " \u001b[90m [ce6b1742] \u001b[39m\u001b[92m+ RDatasets v0.7.1\u001b[39m\n",
      " \u001b[90m [3cdcf5f2] \u001b[39m\u001b[92m+ RecipesBase v1.1.1\u001b[39m\n",
      " \u001b[90m [ae029012] \u001b[39m\u001b[92m+ Requires v1.1.0\u001b[39m\n",
      " \u001b[90m [f269a46b] \u001b[39m\u001b[92m+ TimeZones v1.5.0\u001b[39m\n",
      " \u001b[90m [3bb67fe8] \u001b[39m\u001b[92m+ TranscodingStreams v0.9.5\u001b[39m\n",
      " \u001b[90m [02c8fc9c] \u001b[39m\u001b[92m+ XML2_jll v2.9.10+3\u001b[39m\n",
      " \u001b[90m [83775a58] \u001b[39m\u001b[92m+ Zlib_jll v1.2.11+18\u001b[39m\n",
      "\u001b[32m\u001b[1m  Resolving\u001b[22m\u001b[39m package versions...\n",
      "\u001b[32m\u001b[1mUpdating\u001b[22m\u001b[39m `C:\\Users\\Avinash\\Project.toml`\n",
      " \u001b[90m [2913bbd2] \u001b[39m\u001b[92m+ StatsBase v0.33.2\u001b[39m\n",
      "\u001b[32m\u001b[1mUpdating\u001b[22m\u001b[39m `C:\\Users\\Avinash\\Manifest.toml`\n",
      " \u001b[90m [2913bbd2] \u001b[39m\u001b[92m+ StatsBase v0.33.2\u001b[39m\n",
      "┌ Info: Precompiling RDatasets [ce6b1742-4840-55fa-b093-852dadbb1d8b]\n",
      "└ @ Base loading.jl:1278\n"
     ]
    }
   ],
   "source": [
    "import Pkg\n",
    "Pkg.add(\"RDatasets\")\n",
    "Pkg.add(\"StatsBase\")\n",
    "using CSV, DataFrames, RDatasets, StatsBase"
   ]
  },
  {
   "cell_type": "code",
   "execution_count": 15,
   "metadata": {},
   "outputs": [
    {
     "name": "stderr",
     "output_type": "stream",
     "text": [
      "\u001b[32m\u001b[1m Activating\u001b[22m\u001b[39m environment at `C:\\Users\\Avinash\\Project.toml`\n"
     ]
    }
   ],
   "source": [
    "using Pkg\n",
    "pkg\"activate .\"\n",
    "pkg\"instantiate\""
   ]
  },
  {
   "cell_type": "code",
   "execution_count": 16,
   "metadata": {},
   "outputs": [
    {
     "name": "stderr",
     "output_type": "stream",
     "text": [
      "\u001b[32m\u001b[1m  Resolving\u001b[22m\u001b[39m package versions...\n",
      "\u001b[32m\u001b[1mNo Changes\u001b[22m\u001b[39m to `C:\\Users\\Avinash\\Project.toml`\n",
      "\u001b[32m\u001b[1mNo Changes\u001b[22m\u001b[39m to `C:\\Users\\Avinash\\Manifest.toml`\n"
     ]
    }
   ],
   "source": [
    "pkg\"add DataFrames CSV\"\n",
    "using CSV, DataFrames"
   ]
  },
  {
   "cell_type": "code",
   "execution_count": 17,
   "metadata": {},
   "outputs": [
    {
     "data": {
      "text/html": [
       "<table class=\"data-frame\"><thead><tr><th></th><th>Movie title</th><th>Action</th><th>Animation</th><th>Comedy</th><th>Drama</th><th>Kids</th></tr><tr><th></th><th>String</th><th>Int64?</th><th>Int64?</th><th>Int64?</th><th>Int64?</th><th>Int64?</th></tr></thead><tbody><p>20 rows × 9 columns (omitted printing of 3 columns)</p><tr><th>1</th><td>Bala (2019)</td><td><em>missing</em></td><td>3</td><td><em>missing</em></td><td>10</td><td><em>missing</em></td></tr><tr><th>2</th><td>The Wonderland (2019)</td><td>9</td><td>10</td><td>7</td><td><em>missing</em></td><td>10</td></tr><tr><th>3</th><td>key (2019)</td><td>5</td><td><em>missing</em></td><td>6</td><td>10</td><td><em>missing</em></td></tr><tr><th>4</th><td>paharganj(2019)</td><td>3</td><td><em>missing</em></td><td>3</td><td>10</td><td><em>missing</em></td></tr><tr><th>5</th><td>kabir singh (2019)</td><td>6</td><td><em>missing</em></td><td>8</td><td>9</td><td><em>missing</em></td></tr><tr><th>6</th><td>The lion king (2019)</td><td>8</td><td>7</td><td><em>missing</em></td><td>2</td><td>9</td></tr><tr><th>7</th><td>super 30 (2019)</td><td><em>missing</em></td><td><em>missing</em></td><td>2</td><td>8</td><td><em>missing</em></td></tr><tr><th>8</th><td>frozen 2 (2019)</td><td>7</td><td>8</td><td>5</td><td>4</td><td>10</td></tr><tr><th>9</th><td>shazam (2019)</td><td>10</td><td><em>missing</em></td><td>5</td><td>6</td><td><em>missing</em></td></tr><tr><th>10</th><td>how to train your dragan (2019)</td><td>8</td><td>9</td><td><em>missing</em></td><td><em>missing</em></td><td>10</td></tr><tr><th>11</th><td>The zoya factor (2019)</td><td><em>missing</em></td><td>3</td><td><em>missing</em></td><td>10</td><td><em>missing</em></td></tr><tr><th>12</th><td>Made in china (2019)</td><td><em>missing</em></td><td>3</td><td><em>missing</em></td><td>10</td><td><em>missing</em></td></tr><tr><th>13</th><td>housefull 4(2019)</td><td><em>missing</em></td><td>3</td><td><em>missing</em></td><td>10</td><td><em>missing</em></td></tr><tr><th>14</th><td>Badla (2019)</td><td><em>missing</em></td><td>3</td><td><em>missing</em></td><td>10</td><td><em>missing</em></td></tr><tr><th>15</th><td>Article 15 (2019)</td><td><em>missing</em></td><td>3</td><td><em>missing</em></td><td>10</td><td><em>missing</em></td></tr><tr><th>16</th><td>kesari(2019)</td><td><em>missing</em></td><td>3</td><td><em>missing</em></td><td>10</td><td><em>missing</em></td></tr><tr><th>17</th><td>panipat (2019)</td><td><em>missing</em></td><td>3</td><td><em>missing</em></td><td>10</td><td><em>missing</em></td></tr><tr><th>18</th><td>petta(2019)</td><td><em>missing</em></td><td>3</td><td><em>missing</em></td><td>10</td><td><em>missing</em></td></tr><tr><th>19</th><td>Bypass road(2019)</td><td><em>missing</em></td><td>3</td><td><em>missing</em></td><td>10</td><td><em>missing</em></td></tr><tr><th>20</th><td>manikarika (2019)</td><td><em>missing</em></td><td>3</td><td><em>missing</em></td><td>10</td><td><em>missing</em></td></tr></tbody></table>"
      ],
      "text/latex": [
       "\\begin{tabular}{r|ccccccc}\n",
       "\t& Movie title & Action & Animation & Comedy & Drama & Kids & \\\\\n",
       "\t\\hline\n",
       "\t& String & Int64? & Int64? & Int64? & Int64? & Int64? & \\\\\n",
       "\t\\hline\n",
       "\t1 & Bala (2019) & \\emph{missing} & 3 & \\emph{missing} & 10 & \\emph{missing} & $\\dots$ \\\\\n",
       "\t2 & The Wonderland (2019) & 9 & 10 & 7 & \\emph{missing} & 10 & $\\dots$ \\\\\n",
       "\t3 & key (2019) & 5 & \\emph{missing} & 6 & 10 & \\emph{missing} & $\\dots$ \\\\\n",
       "\t4 & paharganj(2019) & 3 & \\emph{missing} & 3 & 10 & \\emph{missing} & $\\dots$ \\\\\n",
       "\t5 & kabir singh (2019) & 6 & \\emph{missing} & 8 & 9 & \\emph{missing} & $\\dots$ \\\\\n",
       "\t6 & The lion king (2019) & 8 & 7 & \\emph{missing} & 2 & 9 & $\\dots$ \\\\\n",
       "\t7 & super 30 (2019) & \\emph{missing} & \\emph{missing} & 2 & 8 & \\emph{missing} & $\\dots$ \\\\\n",
       "\t8 & frozen 2 (2019) & 7 & 8 & 5 & 4 & 10 & $\\dots$ \\\\\n",
       "\t9 & shazam (2019) & 10 & \\emph{missing} & 5 & 6 & \\emph{missing} & $\\dots$ \\\\\n",
       "\t10 & how to train your dragan (2019) & 8 & 9 & \\emph{missing} & \\emph{missing} & 10 & $\\dots$ \\\\\n",
       "\t11 & The zoya factor (2019) & \\emph{missing} & 3 & \\emph{missing} & 10 & \\emph{missing} & $\\dots$ \\\\\n",
       "\t12 & Made in china (2019) & \\emph{missing} & 3 & \\emph{missing} & 10 & \\emph{missing} & $\\dots$ \\\\\n",
       "\t13 & housefull 4(2019) & \\emph{missing} & 3 & \\emph{missing} & 10 & \\emph{missing} & $\\dots$ \\\\\n",
       "\t14 & Badla (2019) & \\emph{missing} & 3 & \\emph{missing} & 10 & \\emph{missing} & $\\dots$ \\\\\n",
       "\t15 & Article 15 (2019) & \\emph{missing} & 3 & \\emph{missing} & 10 & \\emph{missing} & $\\dots$ \\\\\n",
       "\t16 & kesari(2019) & \\emph{missing} & 3 & \\emph{missing} & 10 & \\emph{missing} & $\\dots$ \\\\\n",
       "\t17 & panipat (2019) & \\emph{missing} & 3 & \\emph{missing} & 10 & \\emph{missing} & $\\dots$ \\\\\n",
       "\t18 & petta(2019) & \\emph{missing} & 3 & \\emph{missing} & 10 & \\emph{missing} & $\\dots$ \\\\\n",
       "\t19 & Bypass road(2019) & \\emph{missing} & 3 & \\emph{missing} & 10 & \\emph{missing} & $\\dots$ \\\\\n",
       "\t20 & manikarika (2019) & \\emph{missing} & 3 & \\emph{missing} & 10 & \\emph{missing} & $\\dots$ \\\\\n",
       "\\end{tabular}\n"
      ],
      "text/plain": [
       "20×9 DataFrame. Omitted printing of 5 columns\n",
       "│ Row │ Movie title                     │ Action  │ Animation │ Comedy  │\n",
       "│     │ \u001b[90mString\u001b[39m                          │ \u001b[90mInt64?\u001b[39m  │ \u001b[90mInt64?\u001b[39m    │ \u001b[90mInt64?\u001b[39m  │\n",
       "├─────┼─────────────────────────────────┼─────────┼───────────┼─────────┤\n",
       "│ 1   │ Bala (2019)                     │ \u001b[90mmissing\u001b[39m │ 3         │ \u001b[90mmissing\u001b[39m │\n",
       "│ 2   │ The Wonderland (2019)           │ 9       │ 10        │ 7       │\n",
       "│ 3   │ key (2019)                      │ 5       │ \u001b[90mmissing\u001b[39m   │ 6       │\n",
       "│ 4   │ paharganj(2019)                 │ 3       │ \u001b[90mmissing\u001b[39m   │ 3       │\n",
       "│ 5   │ kabir singh (2019)              │ 6       │ \u001b[90mmissing\u001b[39m   │ 8       │\n",
       "│ 6   │ The lion king (2019)            │ 8       │ 7         │ \u001b[90mmissing\u001b[39m │\n",
       "│ 7   │ super 30 (2019)                 │ \u001b[90mmissing\u001b[39m │ \u001b[90mmissing\u001b[39m   │ 2       │\n",
       "│ 8   │ frozen 2 (2019)                 │ 7       │ 8         │ 5       │\n",
       "│ 9   │ shazam (2019)                   │ 10      │ \u001b[90mmissing\u001b[39m   │ 5       │\n",
       "│ 10  │ how to train your dragan (2019) │ 8       │ 9         │ \u001b[90mmissing\u001b[39m │\n",
       "│ 11  │ The zoya factor (2019)          │ \u001b[90mmissing\u001b[39m │ 3         │ \u001b[90mmissing\u001b[39m │\n",
       "│ 12  │ Made in china (2019)            │ \u001b[90mmissing\u001b[39m │ 3         │ \u001b[90mmissing\u001b[39m │\n",
       "│ 13  │ housefull 4(2019)               │ \u001b[90mmissing\u001b[39m │ 3         │ \u001b[90mmissing\u001b[39m │\n",
       "│ 14  │ Badla (2019)                    │ \u001b[90mmissing\u001b[39m │ 3         │ \u001b[90mmissing\u001b[39m │\n",
       "│ 15  │ Article 15 (2019)               │ \u001b[90mmissing\u001b[39m │ 3         │ \u001b[90mmissing\u001b[39m │\n",
       "│ 16  │ kesari(2019)                    │ \u001b[90mmissing\u001b[39m │ 3         │ \u001b[90mmissing\u001b[39m │\n",
       "│ 17  │ panipat (2019)                  │ \u001b[90mmissing\u001b[39m │ 3         │ \u001b[90mmissing\u001b[39m │\n",
       "│ 18  │ petta(2019)                     │ \u001b[90mmissing\u001b[39m │ 3         │ \u001b[90mmissing\u001b[39m │\n",
       "│ 19  │ Bypass road(2019)               │ \u001b[90mmissing\u001b[39m │ 3         │ \u001b[90mmissing\u001b[39m │\n",
       "│ 20  │ manikarika (2019)               │ \u001b[90mmissing\u001b[39m │ 3         │ \u001b[90mmissing\u001b[39m │"
      ]
     },
     "execution_count": 17,
     "metadata": {},
     "output_type": "execute_result"
    }
   ],
   "source": [
    "#movies = CSV.read(\"top_20_movies_user_rankings.csv\", delim = ';')\n",
    "movies = CSV.read(\"movie_data.csv\", delim = ';')\n",
    "#Downloads/python/reco/top_10_movies_user_rankings.csv\n",
    "#base.iterator\n",
    "#C:\\Users\\Avinash\\.ipynb_checkpoints"
   ]
  },
  {
   "cell_type": "code",
   "execution_count": 18,
   "metadata": {},
   "outputs": [
    {
     "data": {
      "text/html": [
       "<table class=\"data-frame\"><thead><tr><th></th><th>variable</th><th>mean</th><th>min</th><th>median</th><th>max</th><th>nunique</th><th>nmissing</th></tr><tr><th></th><th>Symbol</th><th>Union…</th><th>Any</th><th>Union…</th><th>Any</th><th>Union…</th><th>Union…</th></tr></thead><tbody><p>9 rows × 8 columns (omitted printing of 1 columns)</p><tr><th>1</th><td>Movie title</td><td></td><td>Article 15 (2019)</td><td></td><td>super 30 (2019)</td><td>20</td><td></td></tr><tr><th>2</th><td>Action</td><td>7.0</td><td>3</td><td>7.5</td><td>10</td><td></td><td>12</td></tr><tr><th>3</th><td>Animation</td><td>4.46667</td><td>3</td><td>3.0</td><td>10</td><td></td><td>5</td></tr><tr><th>4</th><td>Comedy</td><td>5.14286</td><td>2</td><td>5.0</td><td>8</td><td></td><td>13</td></tr><tr><th>5</th><td>Drama</td><td>8.83333</td><td>2</td><td>10.0</td><td>10</td><td></td><td>2</td></tr><tr><th>6</th><td>Kids</td><td>9.75</td><td>9</td><td>10.0</td><td>10</td><td></td><td>16</td></tr><tr><th>7</th><td>Mystery</td><td>8.92308</td><td>8</td><td>9.0</td><td>9</td><td></td><td>7</td></tr><tr><th>8</th><td>Musical</td><td>3.33333</td><td>2</td><td>2.0</td><td>10</td><td></td><td>5</td></tr><tr><th>9</th><td>Scifi</td><td>9.5</td><td>9</td><td>9.5</td><td>10</td><td></td><td>18</td></tr></tbody></table>"
      ],
      "text/latex": [
       "\\begin{tabular}{r|cccccccc}\n",
       "\t& variable & mean & min & median & max & nunique & nmissing & \\\\\n",
       "\t\\hline\n",
       "\t& Symbol & Union… & Any & Union… & Any & Union… & Union… & \\\\\n",
       "\t\\hline\n",
       "\t1 & Movie title &  & Article 15 (2019) &  & super 30 (2019) & 20 &  & $\\dots$ \\\\\n",
       "\t2 & Action & 7.0 & 3 & 7.5 & 10 &  & 12 & $\\dots$ \\\\\n",
       "\t3 & Animation & 4.46667 & 3 & 3.0 & 10 &  & 5 & $\\dots$ \\\\\n",
       "\t4 & Comedy & 5.14286 & 2 & 5.0 & 8 &  & 13 & $\\dots$ \\\\\n",
       "\t5 & Drama & 8.83333 & 2 & 10.0 & 10 &  & 2 & $\\dots$ \\\\\n",
       "\t6 & Kids & 9.75 & 9 & 10.0 & 10 &  & 16 & $\\dots$ \\\\\n",
       "\t7 & Mystery & 8.92308 & 8 & 9.0 & 9 &  & 7 & $\\dots$ \\\\\n",
       "\t8 & Musical & 3.33333 & 2 & 2.0 & 10 &  & 5 & $\\dots$ \\\\\n",
       "\t9 & Scifi & 9.5 & 9 & 9.5 & 10 &  & 18 & $\\dots$ \\\\\n",
       "\\end{tabular}\n"
      ],
      "text/plain": [
       "9×8 DataFrame. Omitted printing of 3 columns\n",
       "│ Row │ variable    │ mean    │ min               │ median │ max             │\n",
       "│     │ \u001b[90mSymbol\u001b[39m      │ \u001b[90mUnion…\u001b[39m  │ \u001b[90mAny\u001b[39m               │ \u001b[90mUnion…\u001b[39m │ \u001b[90mAny\u001b[39m             │\n",
       "├─────┼─────────────┼─────────┼───────────────────┼────────┼─────────────────┤\n",
       "│ 1   │ Movie title │         │ Article 15 (2019) │        │ super 30 (2019) │\n",
       "│ 2   │ Action      │ 7.0     │ 3                 │ 7.5    │ 10              │\n",
       "│ 3   │ Animation   │ 4.46667 │ 3                 │ 3.0    │ 10              │\n",
       "│ 4   │ Comedy      │ 5.14286 │ 2                 │ 5.0    │ 8               │\n",
       "│ 5   │ Drama       │ 8.83333 │ 2                 │ 10.0   │ 10              │\n",
       "│ 6   │ Kids        │ 9.75    │ 9                 │ 10.0   │ 10              │\n",
       "│ 7   │ Mystery     │ 8.92308 │ 8                 │ 9.0    │ 9               │\n",
       "│ 8   │ Musical     │ 3.33333 │ 2                 │ 2.0    │ 10              │\n",
       "│ 9   │ Scifi       │ 9.5     │ 9                 │ 9.5    │ 10              │"
      ]
     },
     "execution_count": 18,
     "metadata": {},
     "output_type": "execute_result"
    }
   ],
   "source": [
    "describe(movies)"
   ]
  },
  {
   "cell_type": "code",
   "execution_count": 19,
   "metadata": {},
   "outputs": [
    {
     "data": {
      "text/plain": [
       "missing"
      ]
     },
     "execution_count": 19,
     "metadata": {},
     "output_type": "execute_result"
    }
   ],
   "source": [
    "movies[1,2]"
   ]
  },
  {
   "cell_type": "code",
   "execution_count": 20,
   "metadata": {},
   "outputs": [
    {
     "data": {
      "text/plain": [
       "true"
      ]
     },
     "execution_count": 20,
     "metadata": {},
     "output_type": "execute_result"
    }
   ],
   "source": [
    "ismissing(movies[1, 2])"
   ]
  },
  {
   "cell_type": "code",
   "execution_count": 21,
   "metadata": {},
   "outputs": [],
   "source": [
    "for c in names(movies)[2:end]\n",
    "    movies[ismissing.(movies[c]), c] = 0\n",
    "end"
   ]
  },
  {
   "cell_type": "code",
   "execution_count": 22,
   "metadata": {},
   "outputs": [
    {
     "data": {
      "text/html": [
       "<table class=\"data-frame\"><thead><tr><th></th><th>Movie title</th><th>Action</th><th>Animation</th><th>Comedy</th><th>Drama</th><th>Kids</th><th>Mystery</th></tr><tr><th></th><th>String</th><th>Int64?</th><th>Int64?</th><th>Int64?</th><th>Int64?</th><th>Int64?</th><th>Int64?</th></tr></thead><tbody><p>20 rows × 9 columns (omitted printing of 2 columns)</p><tr><th>1</th><td>Bala (2019)</td><td>0</td><td>3</td><td>0</td><td>10</td><td>0</td><td>9</td></tr><tr><th>2</th><td>The Wonderland (2019)</td><td>9</td><td>10</td><td>7</td><td>0</td><td>10</td><td>0</td></tr><tr><th>3</th><td>key (2019)</td><td>5</td><td>0</td><td>6</td><td>10</td><td>0</td><td>9</td></tr><tr><th>4</th><td>paharganj(2019)</td><td>3</td><td>0</td><td>3</td><td>10</td><td>0</td><td>8</td></tr><tr><th>5</th><td>kabir singh (2019)</td><td>6</td><td>0</td><td>8</td><td>9</td><td>0</td><td>0</td></tr><tr><th>6</th><td>The lion king (2019)</td><td>8</td><td>7</td><td>0</td><td>2</td><td>9</td><td>0</td></tr><tr><th>7</th><td>super 30 (2019)</td><td>0</td><td>0</td><td>2</td><td>8</td><td>0</td><td>0</td></tr><tr><th>8</th><td>frozen 2 (2019)</td><td>7</td><td>8</td><td>5</td><td>4</td><td>10</td><td>0</td></tr><tr><th>9</th><td>shazam (2019)</td><td>10</td><td>0</td><td>5</td><td>6</td><td>0</td><td>0</td></tr><tr><th>10</th><td>how to train your dragan (2019)</td><td>8</td><td>9</td><td>0</td><td>0</td><td>10</td><td>0</td></tr><tr><th>11</th><td>The zoya factor (2019)</td><td>0</td><td>3</td><td>0</td><td>10</td><td>0</td><td>9</td></tr><tr><th>12</th><td>Made in china (2019)</td><td>0</td><td>3</td><td>0</td><td>10</td><td>0</td><td>9</td></tr><tr><th>13</th><td>housefull 4(2019)</td><td>0</td><td>3</td><td>0</td><td>10</td><td>0</td><td>9</td></tr><tr><th>14</th><td>Badla (2019)</td><td>0</td><td>3</td><td>0</td><td>10</td><td>0</td><td>9</td></tr><tr><th>15</th><td>Article 15 (2019)</td><td>0</td><td>3</td><td>0</td><td>10</td><td>0</td><td>9</td></tr><tr><th>16</th><td>kesari(2019)</td><td>0</td><td>3</td><td>0</td><td>10</td><td>0</td><td>9</td></tr><tr><th>17</th><td>panipat (2019)</td><td>0</td><td>3</td><td>0</td><td>10</td><td>0</td><td>9</td></tr><tr><th>18</th><td>petta(2019)</td><td>0</td><td>3</td><td>0</td><td>10</td><td>0</td><td>9</td></tr><tr><th>19</th><td>Bypass road(2019)</td><td>0</td><td>3</td><td>0</td><td>10</td><td>0</td><td>9</td></tr><tr><th>20</th><td>manikarika (2019)</td><td>0</td><td>3</td><td>0</td><td>10</td><td>0</td><td>9</td></tr></tbody></table>"
      ],
      "text/latex": [
       "\\begin{tabular}{r|cccccccc}\n",
       "\t& Movie title & Action & Animation & Comedy & Drama & Kids & Mystery & \\\\\n",
       "\t\\hline\n",
       "\t& String & Int64? & Int64? & Int64? & Int64? & Int64? & Int64? & \\\\\n",
       "\t\\hline\n",
       "\t1 & Bala (2019) & 0 & 3 & 0 & 10 & 0 & 9 & $\\dots$ \\\\\n",
       "\t2 & The Wonderland (2019) & 9 & 10 & 7 & 0 & 10 & 0 & $\\dots$ \\\\\n",
       "\t3 & key (2019) & 5 & 0 & 6 & 10 & 0 & 9 & $\\dots$ \\\\\n",
       "\t4 & paharganj(2019) & 3 & 0 & 3 & 10 & 0 & 8 & $\\dots$ \\\\\n",
       "\t5 & kabir singh (2019) & 6 & 0 & 8 & 9 & 0 & 0 & $\\dots$ \\\\\n",
       "\t6 & The lion king (2019) & 8 & 7 & 0 & 2 & 9 & 0 & $\\dots$ \\\\\n",
       "\t7 & super 30 (2019) & 0 & 0 & 2 & 8 & 0 & 0 & $\\dots$ \\\\\n",
       "\t8 & frozen 2 (2019) & 7 & 8 & 5 & 4 & 10 & 0 & $\\dots$ \\\\\n",
       "\t9 & shazam (2019) & 10 & 0 & 5 & 6 & 0 & 0 & $\\dots$ \\\\\n",
       "\t10 & how to train your dragan (2019) & 8 & 9 & 0 & 0 & 10 & 0 & $\\dots$ \\\\\n",
       "\t11 & The zoya factor (2019) & 0 & 3 & 0 & 10 & 0 & 9 & $\\dots$ \\\\\n",
       "\t12 & Made in china (2019) & 0 & 3 & 0 & 10 & 0 & 9 & $\\dots$ \\\\\n",
       "\t13 & housefull 4(2019) & 0 & 3 & 0 & 10 & 0 & 9 & $\\dots$ \\\\\n",
       "\t14 & Badla (2019) & 0 & 3 & 0 & 10 & 0 & 9 & $\\dots$ \\\\\n",
       "\t15 & Article 15 (2019) & 0 & 3 & 0 & 10 & 0 & 9 & $\\dots$ \\\\\n",
       "\t16 & kesari(2019) & 0 & 3 & 0 & 10 & 0 & 9 & $\\dots$ \\\\\n",
       "\t17 & panipat (2019) & 0 & 3 & 0 & 10 & 0 & 9 & $\\dots$ \\\\\n",
       "\t18 & petta(2019) & 0 & 3 & 0 & 10 & 0 & 9 & $\\dots$ \\\\\n",
       "\t19 & Bypass road(2019) & 0 & 3 & 0 & 10 & 0 & 9 & $\\dots$ \\\\\n",
       "\t20 & manikarika (2019) & 0 & 3 & 0 & 10 & 0 & 9 & $\\dots$ \\\\\n",
       "\\end{tabular}\n"
      ],
      "text/plain": [
       "20×9 DataFrame. Omitted printing of 4 columns\n",
       "│ Row │ Movie title                     │ Action │ Animation │ Comedy │ Drama  │\n",
       "│     │ \u001b[90mString\u001b[39m                          │ \u001b[90mInt64?\u001b[39m │ \u001b[90mInt64?\u001b[39m    │ \u001b[90mInt64?\u001b[39m │ \u001b[90mInt64?\u001b[39m │\n",
       "├─────┼─────────────────────────────────┼────────┼───────────┼────────┼────────┤\n",
       "│ 1   │ Bala (2019)                     │ 0      │ 3         │ 0      │ 10     │\n",
       "│ 2   │ The Wonderland (2019)           │ 9      │ 10        │ 7      │ 0      │\n",
       "│ 3   │ key (2019)                      │ 5      │ 0         │ 6      │ 10     │\n",
       "│ 4   │ paharganj(2019)                 │ 3      │ 0         │ 3      │ 10     │\n",
       "│ 5   │ kabir singh (2019)              │ 6      │ 0         │ 8      │ 9      │\n",
       "│ 6   │ The lion king (2019)            │ 8      │ 7         │ 0      │ 2      │\n",
       "│ 7   │ super 30 (2019)                 │ 0      │ 0         │ 2      │ 8      │\n",
       "│ 8   │ frozen 2 (2019)                 │ 7      │ 8         │ 5      │ 4      │\n",
       "│ 9   │ shazam (2019)                   │ 10     │ 0         │ 5      │ 6      │\n",
       "│ 10  │ how to train your dragan (2019) │ 8      │ 9         │ 0      │ 0      │\n",
       "│ 11  │ The zoya factor (2019)          │ 0      │ 3         │ 0      │ 10     │\n",
       "│ 12  │ Made in china (2019)            │ 0      │ 3         │ 0      │ 10     │\n",
       "│ 13  │ housefull 4(2019)               │ 0      │ 3         │ 0      │ 10     │\n",
       "│ 14  │ Badla (2019)                    │ 0      │ 3         │ 0      │ 10     │\n",
       "│ 15  │ Article 15 (2019)               │ 0      │ 3         │ 0      │ 10     │\n",
       "│ 16  │ kesari(2019)                    │ 0      │ 3         │ 0      │ 10     │\n",
       "│ 17  │ panipat (2019)                  │ 0      │ 3         │ 0      │ 10     │\n",
       "│ 18  │ petta(2019)                     │ 0      │ 3         │ 0      │ 10     │\n",
       "│ 19  │ Bypass road(2019)               │ 0      │ 3         │ 0      │ 10     │\n",
       "│ 20  │ manikarika (2019)               │ 0      │ 3         │ 0      │ 10     │"
      ]
     },
     "execution_count": 22,
     "metadata": {},
     "output_type": "execute_result"
    }
   ],
   "source": [
    "movies"
   ]
  },
  {
   "cell_type": "code",
   "execution_count": 23,
   "metadata": {},
   "outputs": [
    {
     "data": {
      "text/plain": [
       "\"top_10_movies_user_rankings.tsv\""
      ]
     },
     "execution_count": 23,
     "metadata": {},
     "output_type": "execute_result"
    }
   ],
   "source": [
    "CSV.write(\"top_10_movies_user_rankings.tsv\", movies, delim='\\t')"
   ]
  },
  {
   "cell_type": "code",
   "execution_count": 26,
   "metadata": {},
   "outputs": [
    {
     "data": {
      "text/html": [
       "<table class=\"data-frame\"><thead><tr><th></th><th>Movie title</th><th>Action</th><th>Animation</th></tr><tr><th></th><th>String</th><th>Int64?</th><th>Int64?</th></tr></thead><tbody><p>20 rows × 3 columns</p><tr><th>1</th><td>Bala (2019)</td><td>0</td><td>3</td></tr><tr><th>2</th><td>The Wonderland (2019)</td><td>9</td><td>10</td></tr><tr><th>3</th><td>key (2019)</td><td>5</td><td>0</td></tr><tr><th>4</th><td>paharganj(2019)</td><td>3</td><td>0</td></tr><tr><th>5</th><td>kabir singh (2019)</td><td>6</td><td>0</td></tr><tr><th>6</th><td>The lion king (2019)</td><td>8</td><td>7</td></tr><tr><th>7</th><td>super 30 (2019)</td><td>0</td><td>0</td></tr><tr><th>8</th><td>frozen 2 (2019)</td><td>7</td><td>8</td></tr><tr><th>9</th><td>shazam (2019)</td><td>10</td><td>0</td></tr><tr><th>10</th><td>how to train your dragan (2019)</td><td>8</td><td>9</td></tr><tr><th>11</th><td>The zoya factor (2019)</td><td>0</td><td>3</td></tr><tr><th>12</th><td>Made in china (2019)</td><td>0</td><td>3</td></tr><tr><th>13</th><td>housefull 4(2019)</td><td>0</td><td>3</td></tr><tr><th>14</th><td>Badla (2019)</td><td>0</td><td>3</td></tr><tr><th>15</th><td>Article 15 (2019)</td><td>0</td><td>3</td></tr><tr><th>16</th><td>kesari(2019)</td><td>0</td><td>3</td></tr><tr><th>17</th><td>panipat (2019)</td><td>0</td><td>3</td></tr><tr><th>18</th><td>petta(2019)</td><td>0</td><td>3</td></tr><tr><th>19</th><td>Bypass road(2019)</td><td>0</td><td>3</td></tr><tr><th>20</th><td>manikarika (2019)</td><td>0</td><td>3</td></tr></tbody></table>"
      ],
      "text/latex": [
       "\\begin{tabular}{r|ccc}\n",
       "\t& Movie title & Action & Animation\\\\\n",
       "\t\\hline\n",
       "\t& String & Int64? & Int64?\\\\\n",
       "\t\\hline\n",
       "\t1 & Bala (2019) & 0 & 3 \\\\\n",
       "\t2 & The Wonderland (2019) & 9 & 10 \\\\\n",
       "\t3 & key (2019) & 5 & 0 \\\\\n",
       "\t4 & paharganj(2019) & 3 & 0 \\\\\n",
       "\t5 & kabir singh (2019) & 6 & 0 \\\\\n",
       "\t6 & The lion king (2019) & 8 & 7 \\\\\n",
       "\t7 & super 30 (2019) & 0 & 0 \\\\\n",
       "\t8 & frozen 2 (2019) & 7 & 8 \\\\\n",
       "\t9 & shazam (2019) & 10 & 0 \\\\\n",
       "\t10 & how to train your dragan (2019) & 8 & 9 \\\\\n",
       "\t11 & The zoya factor (2019) & 0 & 3 \\\\\n",
       "\t12 & Made in china (2019) & 0 & 3 \\\\\n",
       "\t13 & housefull 4(2019) & 0 & 3 \\\\\n",
       "\t14 & Badla (2019) & 0 & 3 \\\\\n",
       "\t15 & Article 15 (2019) & 0 & 3 \\\\\n",
       "\t16 & kesari(2019) & 0 & 3 \\\\\n",
       "\t17 & panipat (2019) & 0 & 3 \\\\\n",
       "\t18 & petta(2019) & 0 & 3 \\\\\n",
       "\t19 & Bypass road(2019) & 0 & 3 \\\\\n",
       "\t20 & manikarika (2019) & 0 & 3 \\\\\n",
       "\\end{tabular}\n"
      ],
      "text/plain": [
       "20×3 DataFrame\n",
       "│ Row │ Movie title                     │ Action │ Animation │\n",
       "│     │ \u001b[90mString\u001b[39m                          │ \u001b[90mInt64?\u001b[39m │ \u001b[90mInt64?\u001b[39m    │\n",
       "├─────┼─────────────────────────────────┼────────┼───────────┤\n",
       "│ 1   │ Bala (2019)                     │ 0      │ 3         │\n",
       "│ 2   │ The Wonderland (2019)           │ 9      │ 10        │\n",
       "│ 3   │ key (2019)                      │ 5      │ 0         │\n",
       "│ 4   │ paharganj(2019)                 │ 3      │ 0         │\n",
       "│ 5   │ kabir singh (2019)              │ 6      │ 0         │\n",
       "│ 6   │ The lion king (2019)            │ 8      │ 7         │\n",
       "│ 7   │ super 30 (2019)                 │ 0      │ 0         │\n",
       "│ 8   │ frozen 2 (2019)                 │ 7      │ 8         │\n",
       "│ 9   │ shazam (2019)                   │ 10     │ 0         │\n",
       "│ 10  │ how to train your dragan (2019) │ 8      │ 9         │\n",
       "│ 11  │ The zoya factor (2019)          │ 0      │ 3         │\n",
       "│ 12  │ Made in china (2019)            │ 0      │ 3         │\n",
       "│ 13  │ housefull 4(2019)               │ 0      │ 3         │\n",
       "│ 14  │ Badla (2019)                    │ 0      │ 3         │\n",
       "│ 15  │ Article 15 (2019)               │ 0      │ 3         │\n",
       "│ 16  │ kesari(2019)                    │ 0      │ 3         │\n",
       "│ 17  │ panipat (2019)                  │ 0      │ 3         │\n",
       "│ 18  │ petta(2019)                     │ 0      │ 3         │\n",
       "│ 19  │ Bypass road(2019)               │ 0      │ 3         │\n",
       "│ 20  │ manikarika (2019)               │ 0      │ 3         │"
      ]
     },
     "execution_count": 26,
     "metadata": {},
     "output_type": "execute_result"
    }
   ],
   "source": [
    "action_and_animation = movies[:, 1:3]"
   ]
  },
  {
   "cell_type": "code",
   "execution_count": 28,
   "metadata": {},
   "outputs": [
    {
     "data": {
      "text/html": [
       "<table class=\"data-frame\"><thead><tr><th></th><th>Movie title</th><th>Action</th><th>Animation</th></tr><tr><th></th><th>String</th><th>Int64?</th><th>Int64?</th></tr></thead><tbody><p>4 rows × 3 columns</p><tr><th>1</th><td>The Wonderland (2019)</td><td>9</td><td>10</td></tr><tr><th>2</th><td>The lion king (2019)</td><td>8</td><td>7</td></tr><tr><th>3</th><td>frozen 2 (2019)</td><td>7</td><td>8</td></tr><tr><th>4</th><td>how to train your dragan (2019)</td><td>8</td><td>9</td></tr></tbody></table>"
      ],
      "text/latex": [
       "\\begin{tabular}{r|ccc}\n",
       "\t& Movie title & Action & Animation\\\\\n",
       "\t\\hline\n",
       "\t& String & Int64? & Int64?\\\\\n",
       "\t\\hline\n",
       "\t1 & The Wonderland (2019) & 9 & 10 \\\\\n",
       "\t2 & The lion king (2019) & 8 & 7 \\\\\n",
       "\t3 & frozen 2 (2019) & 7 & 8 \\\\\n",
       "\t4 & how to train your dragan (2019) & 8 & 9 \\\\\n",
       "\\end{tabular}\n"
      ],
      "text/plain": [
       "4×3 DataFrame\n",
       "│ Row │ Movie title                     │ Action │ Animation │\n",
       "│     │ \u001b[90mString\u001b[39m                          │ \u001b[90mInt64?\u001b[39m │ \u001b[90mInt64?\u001b[39m    │\n",
       "├─────┼─────────────────────────────────┼────────┼───────────┤\n",
       "│ 1   │ The Wonderland (2019)           │ 9      │ 10        │\n",
       "│ 2   │ The lion king (2019)            │ 8      │ 7         │\n",
       "│ 3   │ frozen 2 (2019)                 │ 7      │ 8         │\n",
       "│ 4   │ how to train your dragan (2019) │ 8      │ 9         │"
      ]
     },
     "execution_count": 28,
     "metadata": {},
     "output_type": "execute_result"
    }
   ],
   "source": [
    "action_and_animation_in_common = action_and_animation[(action_and_animation[:Action] .> 0) .& (action_and_animation[:Animation] .> 0), :]"
   ]
  },
  {
   "cell_type": "code",
   "execution_count": 30,
   "metadata": {},
   "outputs": [
    {
     "data": {
      "text/plain": [
       "20-element BitArray{1}:\n",
       " 0\n",
       " 1\n",
       " 1\n",
       " 1\n",
       " 1\n",
       " 1\n",
       " 0\n",
       " 1\n",
       " 1\n",
       " 1\n",
       " 0\n",
       " 0\n",
       " 0\n",
       " 0\n",
       " 0\n",
       " 0\n",
       " 0\n",
       " 0\n",
       " 0\n",
       " 0"
      ]
     },
     "execution_count": 30,
     "metadata": {},
     "output_type": "execute_result"
    }
   ],
   "source": [
    "action_and_animation[:Action] .> 0"
   ]
  },
  {
   "cell_type": "code",
   "execution_count": 31,
   "metadata": {},
   "outputs": [
    {
     "data": {
      "text/plain": [
       "20-element BitArray{1}:\n",
       " 1\n",
       " 1\n",
       " 0\n",
       " 0\n",
       " 0\n",
       " 1\n",
       " 0\n",
       " 1\n",
       " 0\n",
       " 1\n",
       " 1\n",
       " 1\n",
       " 1\n",
       " 1\n",
       " 1\n",
       " 1\n",
       " 1\n",
       " 1\n",
       " 1\n",
       " 1"
      ]
     },
     "execution_count": 31,
     "metadata": {},
     "output_type": "execute_result"
    }
   ],
   "source": [
    "action_and_animation[:Animation] .> 0"
   ]
  },
  {
   "cell_type": "code",
   "execution_count": 32,
   "metadata": {},
   "outputs": [
    {
     "data": {
      "text/plain": [
       "20-element BitArray{1}:\n",
       " 0\n",
       " 1\n",
       " 0\n",
       " 0\n",
       " 0\n",
       " 1\n",
       " 0\n",
       " 1\n",
       " 0\n",
       " 1\n",
       " 0\n",
       " 0\n",
       " 0\n",
       " 0\n",
       " 0\n",
       " 0\n",
       " 0\n",
       " 0\n",
       " 0\n",
       " 0"
      ]
     },
     "execution_count": 32,
     "metadata": {},
     "output_type": "execute_result"
    }
   ],
   "source": [
    "(action_and_animation[:Action] .> 0) .& (action_and_animation[:Animation] .> 0)"
   ]
  },
  {
   "cell_type": "code",
   "execution_count": 33,
   "metadata": {},
   "outputs": [
    {
     "name": "stderr",
     "output_type": "stream",
     "text": [
      "\u001b[32m\u001b[1m  Resolving\u001b[22m\u001b[39m package versions...\n",
      "\u001b[32m\u001b[1m  Installed\u001b[22m\u001b[39m RecipesPipeline ─ v0.2.1\n",
      "\u001b[32m\u001b[1m  Installed\u001b[22m\u001b[39m Latexify ──────── v0.14.5\n",
      "\u001b[32m\u001b[1m  Installed\u001b[22m\u001b[39m Plots ─────────── v1.9.0\n",
      "\u001b[32m\u001b[1m  Installed\u001b[22m\u001b[39m Contour ───────── v0.5.6\n",
      "\u001b[32m\u001b[1mUpdating\u001b[22m\u001b[39m `C:\\Users\\Avinash\\Project.toml`\n",
      " \u001b[90m [91a5bcdd] \u001b[39m\u001b[92m+ Plots v1.9.0\u001b[39m\n",
      "\u001b[32m\u001b[1mUpdating\u001b[22m\u001b[39m `C:\\Users\\Avinash\\Manifest.toml`\n",
      " \u001b[90m [79e6a3ab] \u001b[39m\u001b[92m+ Adapt v2.3.0\u001b[39m\n",
      " \u001b[90m [6e34b625] \u001b[39m\u001b[92m+ Bzip2_jll v1.0.6+5\u001b[39m\n",
      " \u001b[90m [83423d85] \u001b[39m\u001b[92m+ Cairo_jll v1.16.0+6\u001b[39m\n",
      " \u001b[90m [35d6a980] \u001b[39m\u001b[92m+ ColorSchemes v3.10.1\u001b[39m\n",
      " \u001b[90m [3da002f7] \u001b[39m\u001b[92m+ ColorTypes v0.10.9\u001b[39m\n",
      " \u001b[90m [5ae59095] \u001b[39m\u001b[92m+ Colors v0.12.4\u001b[39m\n",
      " \u001b[90m [d38c429a] \u001b[39m\u001b[92m+ Contour v0.5.6\u001b[39m\n",
      " \u001b[90m [5ae413db] \u001b[39m\u001b[92m+ EarCut_jll v2.1.5+1\u001b[39m\n",
      " \u001b[90m [2e619515] \u001b[39m\u001b[92m+ Expat_jll v2.2.7+6\u001b[39m\n",
      " \u001b[90m [c87230d0] \u001b[39m\u001b[92m+ FFMPEG v0.4.0\u001b[39m\n",
      " \u001b[90m [b22a6f82] \u001b[39m\u001b[92m+ FFMPEG_jll v4.3.1+4\u001b[39m\n",
      " \u001b[90m [53c48c17] \u001b[39m\u001b[92m+ FixedPointNumbers v0.8.4\u001b[39m\n",
      " \u001b[90m [a3f928ae] \u001b[39m\u001b[92m+ Fontconfig_jll v2.13.1+14\u001b[39m\n",
      " \u001b[90m [59287772] \u001b[39m\u001b[92m+ Formatting v0.4.1\u001b[39m\n",
      " \u001b[90m [d7e528f0] \u001b[39m\u001b[92m+ FreeType2_jll v2.10.1+5\u001b[39m\n",
      " \u001b[90m [559328eb] \u001b[39m\u001b[92m+ FriBidi_jll v1.0.5+6\u001b[39m\n",
      " \u001b[90m [0656b61e] \u001b[39m\u001b[92m+ GLFW_jll v3.3.2+1\u001b[39m\n",
      " \u001b[90m [28b8d3ca] \u001b[39m\u001b[92m+ GR v0.53.0\u001b[39m\n",
      " \u001b[90m [d2c73de3] \u001b[39m\u001b[92m+ GR_jll v0.52.0+0\u001b[39m\n",
      " \u001b[90m [5c1252a2] \u001b[39m\u001b[92m+ GeometryBasics v0.3.3\u001b[39m\n",
      " \u001b[90m [78b55507] \u001b[39m\u001b[92m+ Gettext_jll v0.20.1+7\u001b[39m\n",
      " \u001b[90m [7746bdde] \u001b[39m\u001b[92m+ Glib_jll v2.59.0+4\u001b[39m\n",
      " \u001b[90m [42e2da0e] \u001b[39m\u001b[92m+ Grisu v1.0.0\u001b[39m\n",
      " \u001b[90m [cd3eb016] \u001b[39m\u001b[92m+ HTTP v0.8.19\u001b[39m\n",
      " \u001b[90m [83e8ac13] \u001b[39m\u001b[92m+ IniFile v0.5.0\u001b[39m\n",
      " \u001b[90m [c8e1da08] \u001b[39m\u001b[92m+ IterTools v1.3.0\u001b[39m\n",
      " \u001b[90m [aacddb02] \u001b[39m\u001b[92m+ JpegTurbo_jll v2.0.1+3\u001b[39m\n",
      " \u001b[90m [c1c5ebd0] \u001b[39m\u001b[92m+ LAME_jll v3.100.0+3\u001b[39m\n",
      " \u001b[90m [dd4b983a] \u001b[39m\u001b[92m+ LZO_jll v2.10.0+3\u001b[39m\n",
      " \u001b[90m [b964fa9f] \u001b[39m\u001b[92m+ LaTeXStrings v1.2.0\u001b[39m\n",
      " \u001b[90m [23fbe1c1] \u001b[39m\u001b[92m+ Latexify v0.14.5\u001b[39m\n",
      " \u001b[90m [dd192d2f] \u001b[39m\u001b[92m+ LibVPX_jll v1.9.0+1\u001b[39m\n",
      " \u001b[90m [e9f186c6] \u001b[39m\u001b[92m+ Libffi_jll v3.2.1+4\u001b[39m\n",
      " \u001b[90m [d4300ac3] \u001b[39m\u001b[92m+ Libgcrypt_jll v1.8.5+4\u001b[39m\n",
      " \u001b[90m [7e76a0d4] \u001b[39m\u001b[92m+ Libglvnd_jll v1.3.0+3\u001b[39m\n",
      " \u001b[90m [7add5ba3] \u001b[39m\u001b[92m+ Libgpg_error_jll v1.36.0+3\u001b[39m\n",
      " \u001b[90m [4b2f31a3] \u001b[39m\u001b[92m+ Libmount_jll v2.34.0+3\u001b[39m\n",
      " \u001b[90m [89763e89] \u001b[39m\u001b[92m+ Libtiff_jll v4.1.0+2\u001b[39m\n",
      " \u001b[90m [38a345b3] \u001b[39m\u001b[92m+ Libuuid_jll v2.34.0+7\u001b[39m\n",
      " \u001b[90m [1914dd2f] \u001b[39m\u001b[92m+ MacroTools v0.5.6\u001b[39m\n",
      " \u001b[90m [739be429] \u001b[39m\u001b[92m+ MbedTLS v1.0.3\u001b[39m\n",
      " \u001b[90m [c8ffd9c3] \u001b[39m\u001b[92m+ MbedTLS_jll v2.16.8+1\u001b[39m\n",
      " \u001b[90m [442fdcdd] \u001b[39m\u001b[92m+ Measures v0.3.1\u001b[39m\n",
      " \u001b[90m [77ba4419] \u001b[39m\u001b[92m+ NaNMath v0.3.4\u001b[39m\n",
      " \u001b[90m [e7412a2a] \u001b[39m\u001b[92m+ Ogg_jll v1.3.4+2\u001b[39m\n",
      " \u001b[90m [458c3c95] \u001b[39m\u001b[92m+ OpenSSL_jll v1.1.1+6\u001b[39m\n",
      " \u001b[90m [91d4177d] \u001b[39m\u001b[92m+ Opus_jll v1.3.1+3\u001b[39m\n",
      " \u001b[90m [2f80f16e] \u001b[39m\u001b[92m+ PCRE_jll v8.42.0+4\u001b[39m\n",
      " \u001b[90m [30392449] \u001b[39m\u001b[92m+ Pixman_jll v0.38.4+5\u001b[39m\n",
      " \u001b[90m [ccf2f8ad] \u001b[39m\u001b[92m+ PlotThemes v2.0.0\u001b[39m\n",
      " \u001b[90m [995b91a9] \u001b[39m\u001b[92m+ PlotUtils v1.0.7\u001b[39m\n",
      " \u001b[90m [91a5bcdd] \u001b[39m\u001b[92m+ Plots v1.9.0\u001b[39m\n",
      " \u001b[90m [784f63db] \u001b[39m\u001b[92m+ Qhull_jll v2019.1.0+2\u001b[39m\n",
      " \u001b[90m [ede63266] \u001b[39m\u001b[92m+ Qt_jll v5.15.0+3\u001b[39m\n",
      " \u001b[90m [01d81517] \u001b[39m\u001b[92m+ RecipesPipeline v0.2.1\u001b[39m\n",
      " \u001b[90m [6c6a2e73] \u001b[39m\u001b[92m+ Scratch v1.0.3\u001b[39m\n",
      " \u001b[90m [992d4aef] \u001b[39m\u001b[92m+ Showoff v0.3.2\u001b[39m\n",
      " \u001b[90m [90137ffa] \u001b[39m\u001b[92m+ StaticArrays v0.12.5\u001b[39m\n",
      " \u001b[90m [09ab397b] \u001b[39m\u001b[92m+ StructArrays v0.4.4\u001b[39m\n",
      " \u001b[90m [a2964d1f] \u001b[39m\u001b[92m+ Wayland_jll v1.17.0+4\u001b[39m\n",
      " \u001b[90m [2381bf8a] \u001b[39m\u001b[92m+ Wayland_protocols_jll v1.18.0+4\u001b[39m\n",
      " \u001b[90m [aed1982a] \u001b[39m\u001b[92m+ XSLT_jll v1.1.33+4\u001b[39m\n",
      " \u001b[90m [4f6342f7] \u001b[39m\u001b[92m+ Xorg_libX11_jll v1.6.9+4\u001b[39m\n",
      " \u001b[90m [0c0b7dd1] \u001b[39m\u001b[92m+ Xorg_libXau_jll v1.0.9+4\u001b[39m\n",
      " \u001b[90m [935fb764] \u001b[39m\u001b[92m+ Xorg_libXcursor_jll v1.2.0+4\u001b[39m\n",
      " \u001b[90m [a3789734] \u001b[39m\u001b[92m+ Xorg_libXdmcp_jll v1.1.3+4\u001b[39m\n",
      " \u001b[90m [1082639a] \u001b[39m\u001b[92m+ Xorg_libXext_jll v1.3.4+4\u001b[39m\n",
      " \u001b[90m [d091e8ba] \u001b[39m\u001b[92m+ Xorg_libXfixes_jll v5.0.3+4\u001b[39m\n",
      " \u001b[90m [a51aa0fd] \u001b[39m\u001b[92m+ Xorg_libXi_jll v1.7.10+4\u001b[39m\n",
      " \u001b[90m [d1454406] \u001b[39m\u001b[92m+ Xorg_libXinerama_jll v1.1.4+4\u001b[39m\n",
      " \u001b[90m [ec84b674] \u001b[39m\u001b[92m+ Xorg_libXrandr_jll v1.5.2+4\u001b[39m\n",
      " \u001b[90m [ea2f1a96] \u001b[39m\u001b[92m+ Xorg_libXrender_jll v0.9.10+4\u001b[39m\n",
      " \u001b[90m [14d82f49] \u001b[39m\u001b[92m+ Xorg_libpthread_stubs_jll v0.1.0+3\u001b[39m\n",
      " \u001b[90m [c7cfdc94] \u001b[39m\u001b[92m+ Xorg_libxcb_jll v1.13.0+3\u001b[39m\n",
      " \u001b[90m [cc61e674] \u001b[39m\u001b[92m+ Xorg_libxkbfile_jll v1.1.0+4\u001b[39m\n",
      " \u001b[90m [12413925] \u001b[39m\u001b[92m+ Xorg_xcb_util_image_jll v0.4.0+0\u001b[39m\n",
      " \u001b[90m [2def613f] \u001b[39m\u001b[92m+ Xorg_xcb_util_jll v0.4.0+0\u001b[39m\n",
      " \u001b[90m [975044d2] \u001b[39m\u001b[92m+ Xorg_xcb_util_keysyms_jll v0.4.0+0\u001b[39m\n",
      " \u001b[90m [0d47668e] \u001b[39m\u001b[92m+ Xorg_xcb_util_renderutil_jll v0.3.9+0\u001b[39m\n",
      " \u001b[90m [c22f9ab0] \u001b[39m\u001b[92m+ Xorg_xcb_util_wm_jll v0.4.1+0\u001b[39m\n",
      " \u001b[90m [35661453] \u001b[39m\u001b[92m+ Xorg_xkbcomp_jll v1.4.2+4\u001b[39m\n",
      " \u001b[90m [33bec58e] \u001b[39m\u001b[92m+ Xorg_xkeyboard_config_jll v2.27.0+4\u001b[39m\n",
      " \u001b[90m [c5fb5394] \u001b[39m\u001b[92m+ Xorg_xtrans_jll v1.4.0+3\u001b[39m\n",
      " \u001b[90m [3161d3a3] \u001b[39m\u001b[92m+ Zstd_jll v1.4.5+2\u001b[39m\n",
      " \u001b[90m [0ac62f75] \u001b[39m\u001b[92m+ libass_jll v0.14.0+4\u001b[39m\n",
      " \u001b[90m [f638f0a6] \u001b[39m\u001b[92m+ libfdk_aac_jll v0.1.6+4\u001b[39m\n",
      " \u001b[90m [b53b4c65] \u001b[39m\u001b[92m+ libpng_jll v1.6.37+6\u001b[39m\n",
      " \u001b[90m [f27f6e37] \u001b[39m\u001b[92m+ libvorbis_jll v1.3.6+6\u001b[39m\n",
      " \u001b[90m [1270edf5] \u001b[39m\u001b[92m+ x264_jll v2020.7.14+2\u001b[39m\n",
      " \u001b[90m [dfaa095f] \u001b[39m\u001b[92m+ x265_jll v3.0.0+3\u001b[39m\n",
      " \u001b[90m [d8fb68d0] \u001b[39m\u001b[92m+ xkbcommon_jll v0.9.1+5\u001b[39m\n",
      "┌ Info: Precompiling Plots [91a5bcdd-55d7-5caf-9e0b-520d859cae80]\n",
      "└ @ Base loading.jl:1278\n"
     ]
    }
   ],
   "source": [
    "pkg\"add Plots\"\n",
    "using Plots"
   ]
  },
  {
   "cell_type": "code",
   "execution_count": 34,
   "metadata": {},
   "outputs": [
    {
     "data": {
      "image/svg+xml": [
       "<?xml version=\"1.0\" encoding=\"utf-8\"?>\n",
       "<svg xmlns=\"http://www.w3.org/2000/svg\" xmlns:xlink=\"http://www.w3.org/1999/xlink\" width=\"600\" height=\"400\" viewBox=\"0 0 2400 1600\">\n",
       "<defs>\n",
       "  <clipPath id=\"clip390\">\n",
       "    <rect x=\"0\" y=\"0\" width=\"2400\" height=\"1600\"/>\n",
       "  </clipPath>\n",
       "</defs>\n",
       "<path clip-path=\"url(#clip390)\" d=\"\n",
       "M0 1600 L2400 1600 L2400 0 L0 0  Z\n",
       "  \" fill=\"#ffffff\" fill-rule=\"evenodd\" fill-opacity=\"1\"/>\n",
       "<defs>\n",
       "  <clipPath id=\"clip391\">\n",
       "    <rect x=\"480\" y=\"0\" width=\"1681\" height=\"1600\"/>\n",
       "  </clipPath>\n",
       "</defs>\n",
       "<path clip-path=\"url(#clip390)\" d=\"\n",
       "M134.584 1486.45 L2352.76 1486.45 L2352.76 47.2441 L134.584 47.2441  Z\n",
       "  \" fill=\"#ffffff\" fill-rule=\"evenodd\" fill-opacity=\"1\"/>\n",
       "<defs>\n",
       "  <clipPath id=\"clip392\">\n",
       "    <rect x=\"134\" y=\"47\" width=\"2219\" height=\"1440\"/>\n",
       "  </clipPath>\n",
       "</defs>\n",
       "<polyline clip-path=\"url(#clip392)\" style=\"stroke:#000000; stroke-width:2; stroke-opacity:0.1; fill:none\" points=\"\n",
       "  134.584,1486.45 134.584,47.2441 \n",
       "  \"/>\n",
       "<polyline clip-path=\"url(#clip392)\" style=\"stroke:#000000; stroke-width:2; stroke-opacity:0.1; fill:none\" points=\"\n",
       "  336.236,1486.45 336.236,47.2441 \n",
       "  \"/>\n",
       "<polyline clip-path=\"url(#clip392)\" style=\"stroke:#000000; stroke-width:2; stroke-opacity:0.1; fill:none\" points=\"\n",
       "  537.888,1486.45 537.888,47.2441 \n",
       "  \"/>\n",
       "<polyline clip-path=\"url(#clip392)\" style=\"stroke:#000000; stroke-width:2; stroke-opacity:0.1; fill:none\" points=\"\n",
       "  739.54,1486.45 739.54,47.2441 \n",
       "  \"/>\n",
       "<polyline clip-path=\"url(#clip392)\" style=\"stroke:#000000; stroke-width:2; stroke-opacity:0.1; fill:none\" points=\"\n",
       "  941.192,1486.45 941.192,47.2441 \n",
       "  \"/>\n",
       "<polyline clip-path=\"url(#clip392)\" style=\"stroke:#000000; stroke-width:2; stroke-opacity:0.1; fill:none\" points=\"\n",
       "  1142.84,1486.45 1142.84,47.2441 \n",
       "  \"/>\n",
       "<polyline clip-path=\"url(#clip392)\" style=\"stroke:#000000; stroke-width:2; stroke-opacity:0.1; fill:none\" points=\"\n",
       "  1344.5,1486.45 1344.5,47.2441 \n",
       "  \"/>\n",
       "<polyline clip-path=\"url(#clip392)\" style=\"stroke:#000000; stroke-width:2; stroke-opacity:0.1; fill:none\" points=\"\n",
       "  1546.15,1486.45 1546.15,47.2441 \n",
       "  \"/>\n",
       "<polyline clip-path=\"url(#clip392)\" style=\"stroke:#000000; stroke-width:2; stroke-opacity:0.1; fill:none\" points=\"\n",
       "  1747.8,1486.45 1747.8,47.2441 \n",
       "  \"/>\n",
       "<polyline clip-path=\"url(#clip392)\" style=\"stroke:#000000; stroke-width:2; stroke-opacity:0.1; fill:none\" points=\"\n",
       "  1949.45,1486.45 1949.45,47.2441 \n",
       "  \"/>\n",
       "<polyline clip-path=\"url(#clip392)\" style=\"stroke:#000000; stroke-width:2; stroke-opacity:0.1; fill:none\" points=\"\n",
       "  2151.1,1486.45 2151.1,47.2441 \n",
       "  \"/>\n",
       "<polyline clip-path=\"url(#clip390)\" style=\"stroke:#000000; stroke-width:4; stroke-opacity:1; fill:none\" points=\"\n",
       "  134.584,1486.45 2352.76,1486.45 \n",
       "  \"/>\n",
       "<polyline clip-path=\"url(#clip390)\" style=\"stroke:#000000; stroke-width:4; stroke-opacity:1; fill:none\" points=\"\n",
       "  134.584,1486.45 134.584,1469.18 \n",
       "  \"/>\n",
       "<polyline clip-path=\"url(#clip390)\" style=\"stroke:#000000; stroke-width:4; stroke-opacity:1; fill:none\" points=\"\n",
       "  336.236,1486.45 336.236,1469.18 \n",
       "  \"/>\n",
       "<polyline clip-path=\"url(#clip390)\" style=\"stroke:#000000; stroke-width:4; stroke-opacity:1; fill:none\" points=\"\n",
       "  537.888,1486.45 537.888,1469.18 \n",
       "  \"/>\n",
       "<polyline clip-path=\"url(#clip390)\" style=\"stroke:#000000; stroke-width:4; stroke-opacity:1; fill:none\" points=\"\n",
       "  739.54,1486.45 739.54,1469.18 \n",
       "  \"/>\n",
       "<polyline clip-path=\"url(#clip390)\" style=\"stroke:#000000; stroke-width:4; stroke-opacity:1; fill:none\" points=\"\n",
       "  941.192,1486.45 941.192,1469.18 \n",
       "  \"/>\n",
       "<polyline clip-path=\"url(#clip390)\" style=\"stroke:#000000; stroke-width:4; stroke-opacity:1; fill:none\" points=\"\n",
       "  1142.84,1486.45 1142.84,1469.18 \n",
       "  \"/>\n",
       "<polyline clip-path=\"url(#clip390)\" style=\"stroke:#000000; stroke-width:4; stroke-opacity:1; fill:none\" points=\"\n",
       "  1344.5,1486.45 1344.5,1469.18 \n",
       "  \"/>\n",
       "<polyline clip-path=\"url(#clip390)\" style=\"stroke:#000000; stroke-width:4; stroke-opacity:1; fill:none\" points=\"\n",
       "  1546.15,1486.45 1546.15,1469.18 \n",
       "  \"/>\n",
       "<polyline clip-path=\"url(#clip390)\" style=\"stroke:#000000; stroke-width:4; stroke-opacity:1; fill:none\" points=\"\n",
       "  1747.8,1486.45 1747.8,1469.18 \n",
       "  \"/>\n",
       "<polyline clip-path=\"url(#clip390)\" style=\"stroke:#000000; stroke-width:4; stroke-opacity:1; fill:none\" points=\"\n",
       "  1949.45,1486.45 1949.45,1469.18 \n",
       "  \"/>\n",
       "<polyline clip-path=\"url(#clip390)\" style=\"stroke:#000000; stroke-width:4; stroke-opacity:1; fill:none\" points=\"\n",
       "  2151.1,1486.45 2151.1,1469.18 \n",
       "  \"/>\n",
       "<path clip-path=\"url(#clip390)\" d=\"M 0 0 M134.584 1515.64 Q130.973 1515.64 129.145 1519.2 Q127.339 1522.75 127.339 1529.87 Q127.339 1536.98 129.145 1540.55 Q130.973 1544.09 134.584 1544.09 Q138.219 1544.09 140.024 1540.55 Q141.853 1536.98 141.853 1529.87 Q141.853 1522.75 140.024 1519.2 Q138.219 1515.64 134.584 1515.64 M134.584 1511.93 Q140.395 1511.93 143.45 1516.54 Q146.529 1521.12 146.529 1529.87 Q146.529 1538.6 143.45 1543.21 Q140.395 1547.79 134.584 1547.79 Q128.774 1547.79 125.696 1543.21 Q122.64 1538.6 122.64 1529.87 Q122.64 1521.12 125.696 1516.54 Q128.774 1511.93 134.584 1511.93 Z\" fill=\"#000000\" fill-rule=\"evenodd\" fill-opacity=\"1\" /><path clip-path=\"url(#clip390)\" d=\"M 0 0 M326.618 1543.18 L334.257 1543.18 L334.257 1516.82 L325.947 1518.49 L325.947 1514.23 L334.211 1512.56 L338.887 1512.56 L338.887 1543.18 L346.526 1543.18 L346.526 1547.12 L326.618 1547.12 L326.618 1543.18 Z\" fill=\"#000000\" fill-rule=\"evenodd\" fill-opacity=\"1\" /><path clip-path=\"url(#clip390)\" d=\"M 0 0 M532.541 1543.18 L548.861 1543.18 L548.861 1547.12 L526.916 1547.12 L526.916 1543.18 Q529.578 1540.43 534.162 1535.8 Q538.768 1531.15 539.949 1529.81 Q542.194 1527.28 543.074 1525.55 Q543.976 1523.79 543.976 1522.1 Q543.976 1519.34 542.032 1517.61 Q540.111 1515.87 537.009 1515.87 Q534.81 1515.87 532.356 1516.63 Q529.925 1517.4 527.148 1518.95 L527.148 1514.23 Q529.972 1513.09 532.425 1512.51 Q534.879 1511.93 536.916 1511.93 Q542.286 1511.93 545.481 1514.62 Q548.675 1517.31 548.675 1521.8 Q548.675 1523.93 547.865 1525.85 Q547.078 1527.74 544.972 1530.34 Q544.393 1531.01 541.291 1534.23 Q538.189 1537.42 532.541 1543.18 Z\" fill=\"#000000\" fill-rule=\"evenodd\" fill-opacity=\"1\" /><path clip-path=\"url(#clip390)\" d=\"M 0 0 M743.788 1528.49 Q747.144 1529.2 749.019 1531.47 Q750.918 1533.74 750.918 1537.07 Q750.918 1542.19 747.399 1544.99 Q743.881 1547.79 737.399 1547.79 Q735.223 1547.79 732.908 1547.35 Q730.617 1546.93 728.163 1546.08 L728.163 1541.56 Q730.107 1542.7 732.422 1543.28 Q734.737 1543.86 737.26 1543.86 Q741.658 1543.86 743.95 1542.12 Q746.265 1540.38 746.265 1537.07 Q746.265 1534.02 744.112 1532.31 Q741.982 1530.57 738.163 1530.57 L734.135 1530.57 L734.135 1526.73 L738.348 1526.73 Q741.797 1526.73 743.626 1525.36 Q745.455 1523.97 745.455 1521.38 Q745.455 1518.72 743.556 1517.31 Q741.682 1515.87 738.163 1515.87 Q736.242 1515.87 734.043 1516.29 Q731.844 1516.7 729.205 1517.58 L729.205 1513.42 Q731.867 1512.68 734.182 1512.31 Q736.519 1511.93 738.58 1511.93 Q743.904 1511.93 747.006 1514.37 Q750.107 1516.77 750.107 1520.89 Q750.107 1523.76 748.464 1525.75 Q746.82 1527.72 743.788 1528.49 Z\" fill=\"#000000\" fill-rule=\"evenodd\" fill-opacity=\"1\" /><path clip-path=\"url(#clip390)\" d=\"M 0 0 M944.202 1516.63 L932.396 1535.08 L944.202 1535.08 L944.202 1516.63 M942.975 1512.56 L948.854 1512.56 L948.854 1535.08 L953.785 1535.08 L953.785 1538.97 L948.854 1538.97 L948.854 1547.12 L944.202 1547.12 L944.202 1538.97 L928.6 1538.97 L928.6 1534.46 L942.975 1512.56 Z\" fill=\"#000000\" fill-rule=\"evenodd\" fill-opacity=\"1\" /><path clip-path=\"url(#clip390)\" d=\"M 0 0 M1133.12 1512.56 L1151.48 1512.56 L1151.48 1516.5 L1137.4 1516.5 L1137.4 1524.97 Q1138.42 1524.62 1139.44 1524.46 Q1140.46 1524.27 1141.48 1524.27 Q1147.27 1524.27 1150.65 1527.44 Q1154.02 1530.62 1154.02 1536.03 Q1154.02 1541.61 1150.55 1544.71 Q1147.08 1547.79 1140.76 1547.79 Q1138.58 1547.79 1136.32 1547.42 Q1134.07 1547.05 1131.66 1546.31 L1131.66 1541.61 Q1133.75 1542.74 1135.97 1543.3 Q1138.19 1543.86 1140.67 1543.86 Q1144.67 1543.86 1147.01 1541.75 Q1149.35 1539.64 1149.35 1536.03 Q1149.35 1532.42 1147.01 1530.31 Q1144.67 1528.21 1140.67 1528.21 Q1138.79 1528.21 1136.92 1528.62 Q1135.07 1529.04 1133.12 1529.92 L1133.12 1512.56 Z\" fill=\"#000000\" fill-rule=\"evenodd\" fill-opacity=\"1\" /><path clip-path=\"url(#clip390)\" d=\"M 0 0 M1344.9 1527.98 Q1341.75 1527.98 1339.9 1530.13 Q1338.07 1532.28 1338.07 1536.03 Q1338.07 1539.76 1339.9 1541.93 Q1341.75 1544.09 1344.9 1544.09 Q1348.05 1544.09 1349.88 1541.93 Q1351.73 1539.76 1351.73 1536.03 Q1351.73 1532.28 1349.88 1530.13 Q1348.05 1527.98 1344.9 1527.98 M1354.18 1513.32 L1354.18 1517.58 Q1352.42 1516.75 1350.62 1516.31 Q1348.84 1515.87 1347.08 1515.87 Q1342.45 1515.87 1339.99 1519 Q1337.56 1522.12 1337.22 1528.44 Q1338.58 1526.43 1340.64 1525.36 Q1342.7 1524.27 1345.18 1524.27 Q1350.39 1524.27 1353.4 1527.44 Q1356.43 1530.59 1356.43 1536.03 Q1356.43 1541.36 1353.28 1544.57 Q1350.13 1547.79 1344.9 1547.79 Q1338.91 1547.79 1335.73 1543.21 Q1332.56 1538.6 1332.56 1529.87 Q1332.56 1521.68 1336.45 1516.82 Q1340.34 1511.93 1346.89 1511.93 Q1348.65 1511.93 1350.43 1512.28 Q1352.24 1512.63 1354.18 1513.32 Z\" fill=\"#000000\" fill-rule=\"evenodd\" fill-opacity=\"1\" /><path clip-path=\"url(#clip390)\" d=\"M 0 0 M1535.04 1512.56 L1557.26 1512.56 L1557.26 1514.55 L1544.71 1547.12 L1539.83 1547.12 L1551.63 1516.5 L1535.04 1516.5 L1535.04 1512.56 Z\" fill=\"#000000\" fill-rule=\"evenodd\" fill-opacity=\"1\" /><path clip-path=\"url(#clip390)\" d=\"M 0 0 M1747.8 1530.71 Q1744.47 1530.71 1742.55 1532.49 Q1740.65 1534.27 1740.65 1537.4 Q1740.65 1540.52 1742.55 1542.31 Q1744.47 1544.09 1747.8 1544.09 Q1751.13 1544.09 1753.05 1542.31 Q1754.98 1540.5 1754.98 1537.4 Q1754.98 1534.27 1753.05 1532.49 Q1751.16 1530.71 1747.8 1530.71 M1743.12 1528.72 Q1740.11 1527.98 1738.43 1525.92 Q1736.76 1523.86 1736.76 1520.89 Q1736.76 1516.75 1739.7 1514.34 Q1742.66 1511.93 1747.8 1511.93 Q1752.96 1511.93 1755.9 1514.34 Q1758.84 1516.75 1758.84 1520.89 Q1758.84 1523.86 1757.15 1525.92 Q1755.49 1527.98 1752.5 1528.72 Q1755.88 1529.5 1757.75 1531.8 Q1759.65 1534.09 1759.65 1537.4 Q1759.65 1542.42 1756.57 1545.11 Q1753.52 1547.79 1747.8 1547.79 Q1742.08 1547.79 1739 1545.11 Q1735.95 1542.42 1735.95 1537.4 Q1735.95 1534.09 1737.85 1531.8 Q1739.74 1529.5 1743.12 1528.72 M1741.41 1521.33 Q1741.41 1524.02 1743.08 1525.52 Q1744.77 1527.03 1747.8 1527.03 Q1750.81 1527.03 1752.5 1525.52 Q1754.21 1524.02 1754.21 1521.33 Q1754.21 1518.65 1752.5 1517.14 Q1750.81 1515.64 1747.8 1515.64 Q1744.77 1515.64 1743.08 1517.14 Q1741.41 1518.65 1741.41 1521.33 Z\" fill=\"#000000\" fill-rule=\"evenodd\" fill-opacity=\"1\" /><path clip-path=\"url(#clip390)\" d=\"M 0 0 M1939.75 1546.4 L1939.75 1542.14 Q1941.51 1542.98 1943.32 1543.42 Q1945.12 1543.86 1946.86 1543.86 Q1951.49 1543.86 1953.92 1540.75 Q1956.37 1537.63 1956.72 1531.29 Q1955.38 1533.28 1953.32 1534.34 Q1951.26 1535.41 1948.76 1535.41 Q1943.57 1535.41 1940.54 1532.28 Q1937.53 1529.13 1937.53 1523.69 Q1937.53 1518.37 1940.68 1515.15 Q1943.83 1511.93 1949.06 1511.93 Q1955.05 1511.93 1958.2 1516.54 Q1961.37 1521.12 1961.37 1529.87 Q1961.37 1538.05 1957.48 1542.93 Q1953.62 1547.79 1947.07 1547.79 Q1945.31 1547.79 1943.5 1547.44 Q1941.7 1547.1 1939.75 1546.4 M1949.06 1531.75 Q1952.21 1531.75 1954.04 1529.6 Q1955.89 1527.44 1955.89 1523.69 Q1955.89 1519.97 1954.04 1517.81 Q1952.21 1515.64 1949.06 1515.64 Q1945.91 1515.64 1944.06 1517.81 Q1942.23 1519.97 1942.23 1523.69 Q1942.23 1527.44 1944.06 1529.6 Q1945.91 1531.75 1949.06 1531.75 Z\" fill=\"#000000\" fill-rule=\"evenodd\" fill-opacity=\"1\" /><path clip-path=\"url(#clip390)\" d=\"M 0 0 M2127.98 1543.18 L2135.62 1543.18 L2135.62 1516.82 L2127.31 1518.49 L2127.31 1514.23 L2135.57 1512.56 L2140.25 1512.56 L2140.25 1543.18 L2147.89 1543.18 L2147.89 1547.12 L2127.98 1547.12 L2127.98 1543.18 Z\" fill=\"#000000\" fill-rule=\"evenodd\" fill-opacity=\"1\" /><path clip-path=\"url(#clip390)\" d=\"M 0 0 M2162.96 1515.64 Q2159.34 1515.64 2157.52 1519.2 Q2155.71 1522.75 2155.71 1529.87 Q2155.71 1536.98 2157.52 1540.55 Q2159.34 1544.09 2162.96 1544.09 Q2166.59 1544.09 2168.4 1540.55 Q2170.22 1536.98 2170.22 1529.87 Q2170.22 1522.75 2168.4 1519.2 Q2166.59 1515.64 2162.96 1515.64 M2162.96 1511.93 Q2168.77 1511.93 2171.82 1516.54 Q2174.9 1521.12 2174.9 1529.87 Q2174.9 1538.6 2171.82 1543.21 Q2168.77 1547.79 2162.96 1547.79 Q2157.15 1547.79 2154.07 1543.21 Q2151.01 1538.6 2151.01 1529.87 Q2151.01 1521.12 2154.07 1516.54 Q2157.15 1511.93 2162.96 1511.93 Z\" fill=\"#000000\" fill-rule=\"evenodd\" fill-opacity=\"1\" /><polyline clip-path=\"url(#clip392)\" style=\"stroke:#000000; stroke-width:2; stroke-opacity:0.1; fill:none\" points=\"\n",
       "  134.584,1486.45 2352.76,1486.45 \n",
       "  \"/>\n",
       "<polyline clip-path=\"url(#clip392)\" style=\"stroke:#000000; stroke-width:2; stroke-opacity:0.1; fill:none\" points=\"\n",
       "  134.584,1355.61 2352.76,1355.61 \n",
       "  \"/>\n",
       "<polyline clip-path=\"url(#clip392)\" style=\"stroke:#000000; stroke-width:2; stroke-opacity:0.1; fill:none\" points=\"\n",
       "  134.584,1224.77 2352.76,1224.77 \n",
       "  \"/>\n",
       "<polyline clip-path=\"url(#clip392)\" style=\"stroke:#000000; stroke-width:2; stroke-opacity:0.1; fill:none\" points=\"\n",
       "  134.584,1093.94 2352.76,1093.94 \n",
       "  \"/>\n",
       "<polyline clip-path=\"url(#clip392)\" style=\"stroke:#000000; stroke-width:2; stroke-opacity:0.1; fill:none\" points=\"\n",
       "  134.584,963.101 2352.76,963.101 \n",
       "  \"/>\n",
       "<polyline clip-path=\"url(#clip392)\" style=\"stroke:#000000; stroke-width:2; stroke-opacity:0.1; fill:none\" points=\"\n",
       "  134.584,832.264 2352.76,832.264 \n",
       "  \"/>\n",
       "<polyline clip-path=\"url(#clip392)\" style=\"stroke:#000000; stroke-width:2; stroke-opacity:0.1; fill:none\" points=\"\n",
       "  134.584,701.428 2352.76,701.428 \n",
       "  \"/>\n",
       "<polyline clip-path=\"url(#clip392)\" style=\"stroke:#000000; stroke-width:2; stroke-opacity:0.1; fill:none\" points=\"\n",
       "  134.584,570.591 2352.76,570.591 \n",
       "  \"/>\n",
       "<polyline clip-path=\"url(#clip392)\" style=\"stroke:#000000; stroke-width:2; stroke-opacity:0.1; fill:none\" points=\"\n",
       "  134.584,439.754 2352.76,439.754 \n",
       "  \"/>\n",
       "<polyline clip-path=\"url(#clip392)\" style=\"stroke:#000000; stroke-width:2; stroke-opacity:0.1; fill:none\" points=\"\n",
       "  134.584,308.918 2352.76,308.918 \n",
       "  \"/>\n",
       "<polyline clip-path=\"url(#clip392)\" style=\"stroke:#000000; stroke-width:2; stroke-opacity:0.1; fill:none\" points=\"\n",
       "  134.584,178.081 2352.76,178.081 \n",
       "  \"/>\n",
       "<polyline clip-path=\"url(#clip390)\" style=\"stroke:#000000; stroke-width:4; stroke-opacity:1; fill:none\" points=\"\n",
       "  134.584,1486.45 134.584,47.2441 \n",
       "  \"/>\n",
       "<polyline clip-path=\"url(#clip390)\" style=\"stroke:#000000; stroke-width:4; stroke-opacity:1; fill:none\" points=\"\n",
       "  134.584,1486.45 161.203,1486.45 \n",
       "  \"/>\n",
       "<polyline clip-path=\"url(#clip390)\" style=\"stroke:#000000; stroke-width:4; stroke-opacity:1; fill:none\" points=\"\n",
       "  134.584,1355.61 161.203,1355.61 \n",
       "  \"/>\n",
       "<polyline clip-path=\"url(#clip390)\" style=\"stroke:#000000; stroke-width:4; stroke-opacity:1; fill:none\" points=\"\n",
       "  134.584,1224.77 161.203,1224.77 \n",
       "  \"/>\n",
       "<polyline clip-path=\"url(#clip390)\" style=\"stroke:#000000; stroke-width:4; stroke-opacity:1; fill:none\" points=\"\n",
       "  134.584,1093.94 161.203,1093.94 \n",
       "  \"/>\n",
       "<polyline clip-path=\"url(#clip390)\" style=\"stroke:#000000; stroke-width:4; stroke-opacity:1; fill:none\" points=\"\n",
       "  134.584,963.101 161.203,963.101 \n",
       "  \"/>\n",
       "<polyline clip-path=\"url(#clip390)\" style=\"stroke:#000000; stroke-width:4; stroke-opacity:1; fill:none\" points=\"\n",
       "  134.584,832.264 161.203,832.264 \n",
       "  \"/>\n",
       "<polyline clip-path=\"url(#clip390)\" style=\"stroke:#000000; stroke-width:4; stroke-opacity:1; fill:none\" points=\"\n",
       "  134.584,701.428 161.203,701.428 \n",
       "  \"/>\n",
       "<polyline clip-path=\"url(#clip390)\" style=\"stroke:#000000; stroke-width:4; stroke-opacity:1; fill:none\" points=\"\n",
       "  134.584,570.591 161.203,570.591 \n",
       "  \"/>\n",
       "<polyline clip-path=\"url(#clip390)\" style=\"stroke:#000000; stroke-width:4; stroke-opacity:1; fill:none\" points=\"\n",
       "  134.584,439.754 161.203,439.754 \n",
       "  \"/>\n",
       "<polyline clip-path=\"url(#clip390)\" style=\"stroke:#000000; stroke-width:4; stroke-opacity:1; fill:none\" points=\"\n",
       "  134.584,308.918 161.203,308.918 \n",
       "  \"/>\n",
       "<polyline clip-path=\"url(#clip390)\" style=\"stroke:#000000; stroke-width:4; stroke-opacity:1; fill:none\" points=\"\n",
       "  134.584,178.081 161.203,178.081 \n",
       "  \"/>\n",
       "<path clip-path=\"url(#clip390)\" d=\"M 0 0 M86.6401 1472.25 Q83.029 1472.25 81.2003 1475.81 Q79.3948 1479.35 79.3948 1486.48 Q79.3948 1493.59 81.2003 1497.15 Q83.029 1500.7 86.6401 1500.7 Q90.2743 1500.7 92.0799 1497.15 Q93.9086 1493.59 93.9086 1486.48 Q93.9086 1479.35 92.0799 1475.81 Q90.2743 1472.25 86.6401 1472.25 M86.6401 1468.54 Q92.4502 1468.54 95.5058 1473.15 Q98.5845 1477.73 98.5845 1486.48 Q98.5845 1495.21 95.5058 1499.82 Q92.4502 1504.4 86.6401 1504.4 Q80.8299 1504.4 77.7512 1499.82 Q74.6957 1495.21 74.6957 1486.48 Q74.6957 1477.73 77.7512 1473.15 Q80.8299 1468.54 86.6401 1468.54 Z\" fill=\"#000000\" fill-rule=\"evenodd\" fill-opacity=\"1\" /><path clip-path=\"url(#clip390)\" d=\"M 0 0 M78.6772 1368.96 L86.316 1368.96 L86.316 1342.59 L78.0059 1344.26 L78.0059 1340 L86.2697 1338.33 L90.9456 1338.33 L90.9456 1368.96 L98.5845 1368.96 L98.5845 1372.89 L78.6772 1372.89 L78.6772 1368.96 Z\" fill=\"#000000\" fill-rule=\"evenodd\" fill-opacity=\"1\" /><path clip-path=\"url(#clip390)\" d=\"M 0 0 M82.2651 1238.12 L98.5845 1238.12 L98.5845 1242.05 L76.6401 1242.05 L76.6401 1238.12 Q79.3022 1235.36 83.8855 1230.74 Q88.4919 1226.08 89.6725 1224.74 Q91.9178 1222.22 92.7975 1220.48 Q93.7002 1218.72 93.7002 1217.03 Q93.7002 1214.28 91.7558 1212.54 Q89.8345 1210.8 86.7327 1210.8 Q84.5336 1210.8 82.0799 1211.57 Q79.6494 1212.33 76.8716 1213.88 L76.8716 1209.16 Q79.6957 1208.03 82.1494 1207.45 Q84.6031 1206.87 86.6401 1206.87 Q92.0104 1206.87 95.2049 1209.55 Q98.3993 1212.24 98.3993 1216.73 Q98.3993 1218.86 97.5891 1220.78 Q96.8021 1222.68 94.6956 1225.27 Q94.1169 1225.94 91.0151 1229.16 Q87.9132 1232.36 82.2651 1238.12 Z\" fill=\"#000000\" fill-rule=\"evenodd\" fill-opacity=\"1\" /><path clip-path=\"url(#clip390)\" d=\"M 0 0 M91.4549 1092.58 Q94.8113 1093.3 96.6863 1095.57 Q98.5845 1097.84 98.5845 1101.17 Q98.5845 1106.29 95.066 1109.09 Q91.5475 1111.89 85.066 1111.89 Q82.8901 1111.89 80.5753 1111.45 Q78.2836 1111.03 75.83 1110.18 L75.83 1105.66 Q77.7744 1106.8 80.0892 1107.38 Q82.404 1107.95 84.9271 1107.95 Q89.3253 1107.95 91.6169 1106.22 Q93.9317 1104.48 93.9317 1101.17 Q93.9317 1098.12 91.7789 1096.4 Q89.6493 1094.67 85.8299 1094.67 L81.8021 1094.67 L81.8021 1090.82 L86.0151 1090.82 Q89.4641 1090.82 91.2928 1089.46 Q93.1215 1088.07 93.1215 1085.48 Q93.1215 1082.82 91.2234 1081.4 Q89.3484 1079.97 85.8299 1079.97 Q83.9086 1079.97 81.7096 1080.38 Q79.5105 1080.8 76.8716 1081.68 L76.8716 1077.51 Q79.5336 1076.77 81.8484 1076.4 Q84.1864 1076.03 86.2466 1076.03 Q91.5706 1076.03 94.6724 1078.46 Q97.7743 1080.87 97.7743 1084.99 Q97.7743 1087.86 96.1308 1089.85 Q94.4873 1091.82 91.4549 1092.58 Z\" fill=\"#000000\" fill-rule=\"evenodd\" fill-opacity=\"1\" /><path clip-path=\"url(#clip390)\" d=\"M 0 0 M89.0012 949.895 L77.1957 968.344 L89.0012 968.344 L89.0012 949.895 M87.7743 945.821 L93.6539 945.821 L93.6539 968.344 L98.5845 968.344 L98.5845 972.233 L93.6539 972.233 L93.6539 980.381 L89.0012 980.381 L89.0012 972.233 L73.3994 972.233 L73.3994 967.719 L87.7743 945.821 Z\" fill=\"#000000\" fill-rule=\"evenodd\" fill-opacity=\"1\" /><path clip-path=\"url(#clip390)\" d=\"M 0 0 M77.6818 814.984 L96.0382 814.984 L96.0382 818.92 L81.9642 818.92 L81.9642 827.392 Q82.9827 827.044 84.0012 826.882 Q85.0197 826.697 86.0382 826.697 Q91.8252 826.697 95.2049 829.869 Q98.5845 833.04 98.5845 838.456 Q98.5845 844.035 95.1123 847.137 Q91.6401 850.216 85.3206 850.216 Q83.1447 850.216 80.8762 849.845 Q78.6309 849.475 76.2235 848.734 L76.2235 844.035 Q78.3068 845.169 80.529 845.725 Q82.7512 846.28 85.2281 846.28 Q89.2327 846.28 91.5706 844.174 Q93.9086 842.068 93.9086 838.456 Q93.9086 834.845 91.5706 832.739 Q89.2327 830.632 85.2281 830.632 Q83.3531 830.632 81.4781 831.049 Q79.6262 831.466 77.6818 832.345 L77.6818 814.984 Z\" fill=\"#000000\" fill-rule=\"evenodd\" fill-opacity=\"1\" /><path clip-path=\"url(#clip390)\" d=\"M 0 0 M87.0567 699.564 Q83.9086 699.564 82.0568 701.717 Q80.2281 703.87 80.2281 707.62 Q80.2281 711.347 82.0568 713.522 Q83.9086 715.675 87.0567 715.675 Q90.2049 715.675 92.0336 713.522 Q93.8854 711.347 93.8854 707.62 Q93.8854 703.87 92.0336 701.717 Q90.2049 699.564 87.0567 699.564 M96.3391 684.912 L96.3391 689.171 Q94.5799 688.337 92.7743 687.898 Q90.9919 687.458 89.2327 687.458 Q84.6031 687.458 82.1494 690.583 Q79.7188 693.708 79.3716 700.027 Q80.7373 698.013 82.7975 696.948 Q84.8577 695.861 87.3345 695.861 Q92.5428 695.861 95.5521 699.032 Q98.5845 702.18 98.5845 707.62 Q98.5845 712.944 95.4363 716.161 Q92.2882 719.379 87.0567 719.379 Q81.0614 719.379 77.8901 714.796 Q74.7189 710.189 74.7189 701.462 Q74.7189 693.268 78.6077 688.407 Q82.4966 683.523 89.0475 683.523 Q90.8067 683.523 92.5891 683.87 Q94.3947 684.217 96.3391 684.912 Z\" fill=\"#000000\" fill-rule=\"evenodd\" fill-opacity=\"1\" /><path clip-path=\"url(#clip390)\" d=\"M 0 0 M76.3624 553.311 L98.5845 553.311 L98.5845 555.302 L86.0382 587.871 L81.154 587.871 L92.9595 557.246 L76.3624 557.246 L76.3624 553.311 Z\" fill=\"#000000\" fill-rule=\"evenodd\" fill-opacity=\"1\" /><path clip-path=\"url(#clip390)\" d=\"M 0 0 M86.7327 440.622 Q83.3994 440.622 81.4781 442.405 Q79.5799 444.187 79.5799 447.312 Q79.5799 450.437 81.4781 452.219 Q83.3994 454.002 86.7327 454.002 Q90.066 454.002 91.9873 452.219 Q93.9086 450.414 93.9086 447.312 Q93.9086 444.187 91.9873 442.405 Q90.0891 440.622 86.7327 440.622 M82.0568 438.632 Q79.0475 437.891 77.3577 435.831 Q75.6911 433.77 75.6911 430.808 Q75.6911 426.664 78.6309 424.257 Q81.5938 421.849 86.7327 421.849 Q91.8947 421.849 94.8345 424.257 Q97.7743 426.664 97.7743 430.808 Q97.7743 433.77 96.0845 435.831 Q94.4178 437.891 91.4317 438.632 Q94.8113 439.419 96.6863 441.71 Q98.5845 444.002 98.5845 447.312 Q98.5845 452.335 95.5058 455.02 Q92.4502 457.706 86.7327 457.706 Q81.0151 457.706 77.9364 455.02 Q74.8809 452.335 74.8809 447.312 Q74.8809 444.002 76.779 441.71 Q78.6772 439.419 82.0568 438.632 M80.3438 431.247 Q80.3438 433.932 82.0105 435.437 Q83.7003 436.942 86.7327 436.942 Q89.7419 436.942 91.4317 435.437 Q93.1447 433.932 93.1447 431.247 Q93.1447 428.562 91.4317 427.058 Q89.7419 425.553 86.7327 425.553 Q83.7003 425.553 82.0105 427.058 Q80.3438 428.562 80.3438 431.247 Z\" fill=\"#000000\" fill-rule=\"evenodd\" fill-opacity=\"1\" /><path clip-path=\"url(#clip390)\" d=\"M 0 0 M76.9642 325.48 L76.9642 321.221 Q78.7235 322.054 80.529 322.494 Q82.3346 322.934 84.0707 322.934 Q88.7003 322.934 91.1308 319.832 Q93.5845 316.707 93.9317 310.364 Q92.5891 312.355 90.529 313.42 Q88.4688 314.485 85.9688 314.485 Q80.7836 314.485 77.7512 311.36 Q74.742 308.211 74.742 302.772 Q74.742 297.448 77.8901 294.23 Q81.0383 291.013 86.2697 291.013 Q92.2651 291.013 95.4132 295.619 Q98.5845 300.202 98.5845 308.952 Q98.5845 317.123 94.6956 322.008 Q90.8299 326.869 84.279 326.869 Q82.5197 326.869 80.7142 326.522 Q78.9086 326.174 76.9642 325.48 M86.2697 310.827 Q89.4178 310.827 91.2465 308.674 Q93.0984 306.522 93.0984 302.772 Q93.0984 299.045 91.2465 296.892 Q89.4178 294.716 86.2697 294.716 Q83.1216 294.716 81.2697 296.892 Q79.441 299.045 79.441 302.772 Q79.441 306.522 81.2697 308.674 Q83.1216 310.827 86.2697 310.827 Z\" fill=\"#000000\" fill-rule=\"evenodd\" fill-opacity=\"1\" /><path clip-path=\"url(#clip390)\" d=\"M 0 0 M51.6634 191.426 L59.3023 191.426 L59.3023 165.06 L50.9921 166.727 L50.9921 162.467 L59.256 160.801 L63.9319 160.801 L63.9319 191.426 L71.5707 191.426 L71.5707 195.361 L51.6634 195.361 L51.6634 191.426 Z\" fill=\"#000000\" fill-rule=\"evenodd\" fill-opacity=\"1\" /><path clip-path=\"url(#clip390)\" d=\"M 0 0 M86.6401 163.879 Q83.029 163.879 81.2003 167.444 Q79.3948 170.986 79.3948 178.116 Q79.3948 185.222 81.2003 188.787 Q83.029 192.328 86.6401 192.328 Q90.2743 192.328 92.0799 188.787 Q93.9086 185.222 93.9086 178.116 Q93.9086 170.986 92.0799 167.444 Q90.2743 163.879 86.6401 163.879 M86.6401 160.176 Q92.4502 160.176 95.5058 164.782 Q98.5845 169.366 98.5845 178.116 Q98.5845 186.842 95.5058 191.449 Q92.4502 196.032 86.6401 196.032 Q80.8299 196.032 77.7512 191.449 Q74.6957 186.842 74.6957 178.116 Q74.6957 169.366 77.7512 164.782 Q80.8299 160.176 86.6401 160.176 Z\" fill=\"#000000\" fill-rule=\"evenodd\" fill-opacity=\"1\" /><circle clip-path=\"url(#clip392)\" cx=\"1949.45\" cy=\"178.081\" r=\"14\" fill=\"#009af9\" fill-rule=\"evenodd\" fill-opacity=\"1\" stroke=\"#000000\" stroke-opacity=\"1\" stroke-width=\"3.2\"/>\n",
       "<circle clip-path=\"url(#clip392)\" cx=\"1747.8\" cy=\"570.591\" r=\"14\" fill=\"#009af9\" fill-rule=\"evenodd\" fill-opacity=\"1\" stroke=\"#000000\" stroke-opacity=\"1\" stroke-width=\"3.2\"/>\n",
       "<circle clip-path=\"url(#clip392)\" cx=\"1546.15\" cy=\"439.754\" r=\"14\" fill=\"#009af9\" fill-rule=\"evenodd\" fill-opacity=\"1\" stroke=\"#000000\" stroke-opacity=\"1\" stroke-width=\"3.2\"/>\n",
       "<circle clip-path=\"url(#clip392)\" cx=\"1747.8\" cy=\"308.918\" r=\"14\" fill=\"#009af9\" fill-rule=\"evenodd\" fill-opacity=\"1\" stroke=\"#000000\" stroke-opacity=\"1\" stroke-width=\"3.2\"/>\n",
       "</svg>\n"
      ]
     },
     "execution_count": 34,
     "metadata": {},
     "output_type": "execute_result"
    }
   ],
   "source": [
    "plot(action_and_animation_in_common[:,2], action_and_animation_in_common[:,3], seriestype=:scatter, xticks=0:10, yticks=0:10, lims=(0,11), label=\"\")"
   ]
  },
  {
   "cell_type": "code",
   "execution_count": 35,
   "metadata": {},
   "outputs": [
    {
     "name": "stderr",
     "output_type": "stream",
     "text": [
      "\u001b[32m\u001b[1m  Resolving\u001b[22m\u001b[39m package versions...\n",
      "\u001b[32m\u001b[1mUpdating\u001b[22m\u001b[39m `C:\\Users\\Avinash\\Project.toml`\n",
      " \u001b[90m [91a5bcdd] \u001b[39m\u001b[95m↓ Plots v1.9.0 ⇒ v0.29.9\u001b[39m\n",
      " \u001b[90m [60ddc479] \u001b[39m\u001b[92m+ StatPlots v0.9.2\u001b[39m\n",
      "\u001b[32m\u001b[1mUpdating\u001b[22m\u001b[39m `C:\\Users\\Avinash\\Manifest.toml`\n",
      " \u001b[90m [621f4979] \u001b[39m\u001b[92m+ AbstractFFTs v0.5.0\u001b[39m\n",
      " \u001b[90m [13072b0f] \u001b[39m\u001b[92m+ AxisAlgorithms v1.0.0\u001b[39m\n",
      " \u001b[90m [83423d85] \u001b[39m\u001b[91m- Cairo_jll v1.16.0+6\u001b[39m\n",
      " \u001b[90m [aaaa29a8] \u001b[39m\u001b[92m+ Clustering v0.14.2\u001b[39m\n",
      " \u001b[90m [35d6a980] \u001b[39m\u001b[91m- ColorSchemes v3.10.1\u001b[39m\n",
      " \u001b[90m [e66e0078] \u001b[39m\u001b[92m+ CompilerSupportLibraries_jll v0.3.4+0\u001b[39m\n",
      " \u001b[90m [e7dc6d0d] \u001b[39m\u001b[92m+ DataValues v0.4.13\u001b[39m\n",
      " \u001b[90m [31c24e10] \u001b[39m\u001b[92m+ Distributions v0.23.12\u001b[39m\n",
      " \u001b[90m [ffbed154] \u001b[39m\u001b[92m+ DocStringExtensions v0.8.3\u001b[39m\n",
      " \u001b[90m [5ae413db] \u001b[39m\u001b[91m- EarCut_jll v2.1.5+1\u001b[39m\n",
      " \u001b[90m [2e619515] \u001b[39m\u001b[91m- Expat_jll v2.2.7+6\u001b[39m\n",
      " \u001b[90m [c87230d0] \u001b[39m\u001b[95m↓ FFMPEG v0.4.0 ⇒ v0.3.0\u001b[39m\n",
      " \u001b[90m [7a1cc6ca] \u001b[39m\u001b[92m+ FFTW v1.2.4\u001b[39m\n",
      " \u001b[90m [f5851436] \u001b[39m\u001b[92m+ FFTW_jll v3.3.9+6\u001b[39m\n",
      " \u001b[90m [1a297f60] \u001b[39m\u001b[92m+ FillArrays v0.9.7\u001b[39m\n",
      " \u001b[90m [a3f928ae] \u001b[39m\u001b[91m- Fontconfig_jll v2.13.1+14\u001b[39m\n",
      " \u001b[90m [59287772] \u001b[39m\u001b[91m- Formatting v0.4.1\u001b[39m\n",
      " \u001b[90m [0656b61e] \u001b[39m\u001b[91m- GLFW_jll v3.3.2+1\u001b[39m\n",
      " \u001b[90m [28b8d3ca] \u001b[39m\u001b[95m↓ GR v0.53.0 ⇒ v0.48.0\u001b[39m\n",
      " \u001b[90m [d2c73de3] \u001b[39m\u001b[91m- GR_jll v0.52.0+0\u001b[39m\n",
      " \u001b[90m [5c1252a2] \u001b[39m\u001b[91m- GeometryBasics v0.3.3\u001b[39m\n",
      " \u001b[90m [4d00f742] \u001b[39m\u001b[92m+ GeometryTypes v0.8.3\u001b[39m\n",
      " \u001b[90m [78b55507] \u001b[39m\u001b[91m- Gettext_jll v0.20.1+7\u001b[39m\n",
      " \u001b[90m [7746bdde] \u001b[39m\u001b[91m- Glib_jll v2.59.0+4\u001b[39m\n",
      " \u001b[90m [cd3eb016] \u001b[39m\u001b[91m- HTTP v0.8.19\u001b[39m\n",
      " \u001b[90m [83e8ac13] \u001b[39m\u001b[91m- IniFile v0.5.0\u001b[39m\n",
      " \u001b[90m [1d5cc7b8] \u001b[39m\u001b[92m+ IntelOpenMP_jll v2018.0.3+0\u001b[39m\n",
      " \u001b[90m [a98d9a8b] \u001b[39m\u001b[92m+ Interpolations v0.13.0\u001b[39m\n",
      " \u001b[90m [c8e1da08] \u001b[39m\u001b[91m- IterTools v1.3.0\u001b[39m\n",
      " \u001b[90m [1c8ee90f] \u001b[39m\u001b[92m+ IterableTables v1.0.0\u001b[39m\n",
      " \u001b[90m [aacddb02] \u001b[39m\u001b[91m- JpegTurbo_jll v2.0.1+3\u001b[39m\n",
      " \u001b[90m [5ab0869b] \u001b[39m\u001b[92m+ KernelDensity v0.6.2\u001b[39m\n",
      " \u001b[90m [dd4b983a] \u001b[39m\u001b[91m- LZO_jll v2.10.0+3\u001b[39m\n",
      " \u001b[90m [b964fa9f] \u001b[39m\u001b[91m- LaTeXStrings v1.2.0\u001b[39m\n",
      " \u001b[90m [23fbe1c1] \u001b[39m\u001b[91m- Latexify v0.14.5\u001b[39m\n",
      " \u001b[90m [e9f186c6] \u001b[39m\u001b[91m- Libffi_jll v3.2.1+4\u001b[39m\n",
      " \u001b[90m [d4300ac3] \u001b[39m\u001b[91m- Libgcrypt_jll v1.8.5+4\u001b[39m\n",
      " \u001b[90m [7e76a0d4] \u001b[39m\u001b[91m- Libglvnd_jll v1.3.0+3\u001b[39m\n",
      " \u001b[90m [7add5ba3] \u001b[39m\u001b[91m- Libgpg_error_jll v1.36.0+3\u001b[39m\n",
      " \u001b[90m [4b2f31a3] \u001b[39m\u001b[91m- Libmount_jll v2.34.0+3\u001b[39m\n",
      " \u001b[90m [89763e89] \u001b[39m\u001b[91m- Libtiff_jll v4.1.0+2\u001b[39m\n",
      " \u001b[90m [38a345b3] \u001b[39m\u001b[91m- Libuuid_jll v2.34.0+7\u001b[39m\n",
      " \u001b[90m [856f044c] \u001b[39m\u001b[92m+ MKL_jll v2020.2.254+0\u001b[39m\n",
      " \u001b[90m [1914dd2f] \u001b[39m\u001b[91m- MacroTools v0.5.6\u001b[39m\n",
      " \u001b[90m [739be429] \u001b[39m\u001b[91m- MbedTLS v1.0.3\u001b[39m\n",
      " \u001b[90m [c8ffd9c3] \u001b[39m\u001b[91m- MbedTLS_jll v2.16.8+1\u001b[39m\n",
      " \u001b[90m [b8a86587] \u001b[39m\u001b[92m+ NearestNeighbors v0.4.7\u001b[39m\n",
      " \u001b[90m [510215fc] \u001b[39m\u001b[92m+ Observables v0.3.2\u001b[39m\n",
      " \u001b[90m [6fe1bfb0] \u001b[39m\u001b[92m+ OffsetArrays v1.4.0\u001b[39m\n",
      " \u001b[90m [efe28fd5] \u001b[39m\u001b[92m+ OpenSpecFun_jll v0.5.3+4\u001b[39m\n",
      " \u001b[90m [2f80f16e] \u001b[39m\u001b[91m- PCRE_jll v8.42.0+4\u001b[39m\n",
      " \u001b[90m [90014a1f] \u001b[39m\u001b[92m+ PDMats v0.10.1\u001b[39m\n",
      " \u001b[90m [30392449] \u001b[39m\u001b[91m- Pixman_jll v0.38.4+5\u001b[39m\n",
      " \u001b[90m [ccf2f8ad] \u001b[39m\u001b[95m↓ PlotThemes v2.0.0 ⇒ v1.0.3\u001b[39m\n",
      " \u001b[90m [995b91a9] \u001b[39m\u001b[95m↓ PlotUtils v1.0.7 ⇒ v0.6.5\u001b[39m\n",
      " \u001b[90m [91a5bcdd] \u001b[39m\u001b[95m↓ Plots v1.9.0 ⇒ v0.29.9\u001b[39m\n",
      " \u001b[90m [784f63db] \u001b[39m\u001b[91m- Qhull_jll v2019.1.0+2\u001b[39m\n",
      " \u001b[90m [ede63266] \u001b[39m\u001b[91m- Qt_jll v5.15.0+3\u001b[39m\n",
      " \u001b[90m [1fd47b50] \u001b[39m\u001b[92m+ QuadGK v2.4.1\u001b[39m\n",
      " \u001b[90m [c84ed2f1] \u001b[39m\u001b[92m+ Ratios v0.4.0\u001b[39m\n",
      " \u001b[90m [3cdcf5f2] \u001b[39m\u001b[95m↓ RecipesBase v1.1.1 ⇒ v0.8.0\u001b[39m\n",
      " \u001b[90m [01d81517] \u001b[39m\u001b[91m- RecipesPipeline v0.2.1\u001b[39m\n",
      " \u001b[90m [79098fc4] \u001b[39m\u001b[92m+ Rmath v0.6.1\u001b[39m\n",
      " \u001b[90m [f50d1b31] \u001b[39m\u001b[92m+ Rmath_jll v0.2.2+1\u001b[39m\n",
      " \u001b[90m [6c6a2e73] \u001b[39m\u001b[91m- Scratch v1.0.3\u001b[39m\n",
      " \u001b[90m [276daf66] \u001b[39m\u001b[92m+ SpecialFunctions v0.10.3\u001b[39m\n",
      " \u001b[90m [60ddc479] \u001b[39m\u001b[92m+ StatPlots v0.9.2\u001b[39m\n",
      " \u001b[90m [4c63d2b9] \u001b[39m\u001b[92m+ StatsFuns v0.9.5\u001b[39m\n",
      " \u001b[90m [09ab397b] \u001b[39m\u001b[91m- StructArrays v0.4.4\u001b[39m\n",
      " \u001b[90m [382cd787] \u001b[39m\u001b[92m+ TableTraitsUtils v1.0.1\u001b[39m\n",
      " \u001b[90m [a2964d1f] \u001b[39m\u001b[91m- Wayland_jll v1.17.0+4\u001b[39m\n",
      " \u001b[90m [2381bf8a] \u001b[39m\u001b[91m- Wayland_protocols_jll v1.18.0+4\u001b[39m\n",
      " \u001b[90m [cc8bc4a8] \u001b[39m\u001b[92m+ Widgets v0.6.2\u001b[39m\n",
      " \u001b[90m [efce3f68] \u001b[39m\u001b[92m+ WoodburyMatrices v0.5.3\u001b[39m\n",
      " \u001b[90m [aed1982a] \u001b[39m\u001b[91m- XSLT_jll v1.1.33+4\u001b[39m\n",
      " \u001b[90m [4f6342f7] \u001b[39m\u001b[91m- Xorg_libX11_jll v1.6.9+4\u001b[39m\n",
      " \u001b[90m [0c0b7dd1] \u001b[39m\u001b[91m- Xorg_libXau_jll v1.0.9+4\u001b[39m\n",
      " \u001b[90m [935fb764] \u001b[39m\u001b[91m- Xorg_libXcursor_jll v1.2.0+4\u001b[39m\n",
      " \u001b[90m [a3789734] \u001b[39m\u001b[91m- Xorg_libXdmcp_jll v1.1.3+4\u001b[39m\n",
      " \u001b[90m [1082639a] \u001b[39m\u001b[91m- Xorg_libXext_jll v1.3.4+4\u001b[39m\n",
      " \u001b[90m [d091e8ba] \u001b[39m\u001b[91m- Xorg_libXfixes_jll v5.0.3+4\u001b[39m\n",
      " \u001b[90m [a51aa0fd] \u001b[39m\u001b[91m- Xorg_libXi_jll v1.7.10+4\u001b[39m\n",
      " \u001b[90m [d1454406] \u001b[39m\u001b[91m- Xorg_libXinerama_jll v1.1.4+4\u001b[39m\n",
      " \u001b[90m [ec84b674] \u001b[39m\u001b[91m- Xorg_libXrandr_jll v1.5.2+4\u001b[39m\n",
      " \u001b[90m [ea2f1a96] \u001b[39m\u001b[91m- Xorg_libXrender_jll v0.9.10+4\u001b[39m\n",
      " \u001b[90m [14d82f49] \u001b[39m\u001b[91m- Xorg_libpthread_stubs_jll v0.1.0+3\u001b[39m\n",
      " \u001b[90m [c7cfdc94] \u001b[39m\u001b[91m- Xorg_libxcb_jll v1.13.0+3\u001b[39m\n",
      " \u001b[90m [cc61e674] \u001b[39m\u001b[91m- Xorg_libxkbfile_jll v1.1.0+4\u001b[39m\n",
      " \u001b[90m [12413925] \u001b[39m\u001b[91m- Xorg_xcb_util_image_jll v0.4.0+0\u001b[39m\n",
      " \u001b[90m [2def613f] \u001b[39m\u001b[91m- Xorg_xcb_util_jll v0.4.0+0\u001b[39m\n",
      " \u001b[90m [975044d2] \u001b[39m\u001b[91m- Xorg_xcb_util_keysyms_jll v0.4.0+0\u001b[39m\n",
      " \u001b[90m [0d47668e] \u001b[39m\u001b[91m- Xorg_xcb_util_renderutil_jll v0.3.9+0\u001b[39m\n",
      " \u001b[90m [c22f9ab0] \u001b[39m\u001b[91m- Xorg_xcb_util_wm_jll v0.4.1+0\u001b[39m\n",
      " \u001b[90m [35661453] \u001b[39m\u001b[91m- Xorg_xkbcomp_jll v1.4.2+4\u001b[39m\n",
      " \u001b[90m [33bec58e] \u001b[39m\u001b[91m- Xorg_xkeyboard_config_jll v2.27.0+4\u001b[39m\n",
      " \u001b[90m [c5fb5394] \u001b[39m\u001b[91m- Xorg_xtrans_jll v1.4.0+3\u001b[39m\n",
      " \u001b[90m [3161d3a3] \u001b[39m\u001b[91m- Zstd_jll v1.4.5+2\u001b[39m\n",
      " \u001b[90m [b53b4c65] \u001b[39m\u001b[91m- libpng_jll v1.6.37+6\u001b[39m\n",
      " \u001b[90m [d8fb68d0] \u001b[39m\u001b[91m- xkbcommon_jll v0.9.1+5\u001b[39m\n",
      " \u001b[90m [4607b0f0] \u001b[39m\u001b[92m+ SuiteSparse\u001b[39m\n",
      "┌ Info: Precompiling StatPlots [60ddc479-9b66-56df-82fc-76a74619b69c]\n",
      "└ @ Base loading.jl:1278\n",
      "┌ Warning: `@nodeps` is deprecated. Simply use e.g. `Widgets.dropdown(x)` instead of `Widgets.@nodeps dropdown(x)`.\n",
      "└ @ Widgets C:\\Users\\Avinash\\.julia\\packages\\Widgets\\451tD\\src\\utils.jl:63\n",
      "┌ Warning: `@nodeps` is deprecated. Simply use e.g. `Widgets.dropdown(x)` instead of `Widgets.@nodeps dropdown(x)`.\n",
      "└ @ Widgets C:\\Users\\Avinash\\.julia\\packages\\Widgets\\451tD\\src\\utils.jl:63\n",
      "┌ Warning: `@nodeps` is deprecated. Simply use e.g. `Widgets.dropdown(x)` instead of `Widgets.@nodeps dropdown(x)`.\n",
      "└ @ Widgets C:\\Users\\Avinash\\.julia\\packages\\Widgets\\451tD\\src\\utils.jl:63\n",
      "┌ Warning: `@nodeps` is deprecated. Simply use e.g. `Widgets.dropdown(x)` instead of `Widgets.@nodeps dropdown(x)`.\n",
      "└ @ Widgets C:\\Users\\Avinash\\.julia\\packages\\Widgets\\451tD\\src\\utils.jl:63\n",
      "┌ Warning: `@nodeps` is deprecated. Simply use e.g. `Widgets.dropdown(x)` instead of `Widgets.@nodeps dropdown(x)`.\n",
      "└ @ Widgets C:\\Users\\Avinash\\.julia\\packages\\Widgets\\451tD\\src\\utils.jl:63\n",
      "┌ Warning: `@nodeps` is deprecated. Simply use e.g. `Widgets.dropdown(x)` instead of `Widgets.@nodeps dropdown(x)`.\n",
      "└ @ Widgets C:\\Users\\Avinash\\.julia\\packages\\Widgets\\451tD\\src\\utils.jl:63\n",
      "┌ Warning: `@nodeps` is deprecated. Simply use e.g. `Widgets.dropdown(x)` instead of `Widgets.@nodeps dropdown(x)`.\n",
      "└ @ Widgets C:\\Users\\Avinash\\.julia\\packages\\Widgets\\451tD\\src\\utils.jl:63\n",
      "┌ Warning: `@nodeps` is deprecated. Simply use e.g. `Widgets.dropdown(x)` instead of `Widgets.@nodeps dropdown(x)`.\n",
      "└ @ Widgets C:\\Users\\Avinash\\.julia\\packages\\Widgets\\451tD\\src\\utils.jl:63\n"
     ]
    },
    {
     "name": "stdout",
     "output_type": "stream",
     "text": [
      "\n",
      "This package has been renamed to StatsPlots.\n",
      "The name StatPlots has been deprecated.\n",
      "\n",
      "Please run\n",
      "\n",
      "`]rm StatPlots`\n",
      "`]add StatsPlots`\n",
      "\n",
      "Failure to update will mean that you do not receive new developments.\n",
      "\n"
     ]
    }
   ],
   "source": [
    "pkg\"add StatPlots\"\n",
    "using StatPlots"
   ]
  },
  {
   "cell_type": "code",
   "execution_count": 36,
   "metadata": {},
   "outputs": [
    {
     "data": {
      "image/svg+xml": [
       "<?xml version=\"1.0\" encoding=\"utf-8\"?>\n",
       "<svg xmlns=\"http://www.w3.org/2000/svg\" xmlns:xlink=\"http://www.w3.org/1999/xlink\" width=\"600\" height=\"400\" viewBox=\"0 0 2400 1600\">\n",
       "<defs>\n",
       "  <clipPath id=\"clip430\">\n",
       "    <rect x=\"0\" y=\"0\" width=\"2400\" height=\"1600\"/>\n",
       "  </clipPath>\n",
       "</defs>\n",
       "<path clip-path=\"url(#clip430)\" d=\"\n",
       "M0 1600 L2400 1600 L2400 0 L0 0  Z\n",
       "  \" fill=\"#ffffff\" fill-rule=\"evenodd\" fill-opacity=\"1\"/>\n",
       "<defs>\n",
       "  <clipPath id=\"clip431\">\n",
       "    <rect x=\"480\" y=\"0\" width=\"1681\" height=\"1600\"/>\n",
       "  </clipPath>\n",
       "</defs>\n",
       "<path clip-path=\"url(#clip430)\" d=\"\n",
       "M134.584 1486.45 L2352.76 1486.45 L2352.76 123.472 L134.584 123.472  Z\n",
       "  \" fill=\"#ffffff\" fill-rule=\"evenodd\" fill-opacity=\"1\"/>\n",
       "<defs>\n",
       "  <clipPath id=\"clip432\">\n",
       "    <rect x=\"134\" y=\"123\" width=\"2219\" height=\"1364\"/>\n",
       "  </clipPath>\n",
       "</defs>\n",
       "<polyline clip-path=\"url(#clip432)\" style=\"stroke:#000000; stroke-width:2; stroke-opacity:0.1; fill:none\" points=\"\n",
       "  134.584,1486.45 134.584,123.472 \n",
       "  \"/>\n",
       "<polyline clip-path=\"url(#clip432)\" style=\"stroke:#000000; stroke-width:2; stroke-opacity:0.1; fill:none\" points=\"\n",
       "  504.28,1486.45 504.28,123.472 \n",
       "  \"/>\n",
       "<polyline clip-path=\"url(#clip432)\" style=\"stroke:#000000; stroke-width:2; stroke-opacity:0.1; fill:none\" points=\"\n",
       "  873.975,1486.45 873.975,123.472 \n",
       "  \"/>\n",
       "<polyline clip-path=\"url(#clip432)\" style=\"stroke:#000000; stroke-width:2; stroke-opacity:0.1; fill:none\" points=\"\n",
       "  1243.67,1486.45 1243.67,123.472 \n",
       "  \"/>\n",
       "<polyline clip-path=\"url(#clip432)\" style=\"stroke:#000000; stroke-width:2; stroke-opacity:0.1; fill:none\" points=\"\n",
       "  1613.37,1486.45 1613.37,123.472 \n",
       "  \"/>\n",
       "<polyline clip-path=\"url(#clip432)\" style=\"stroke:#000000; stroke-width:2; stroke-opacity:0.1; fill:none\" points=\"\n",
       "  1983.06,1486.45 1983.06,123.472 \n",
       "  \"/>\n",
       "<polyline clip-path=\"url(#clip432)\" style=\"stroke:#000000; stroke-width:2; stroke-opacity:0.1; fill:none\" points=\"\n",
       "  2352.76,1486.45 2352.76,123.472 \n",
       "  \"/>\n",
       "<polyline clip-path=\"url(#clip430)\" style=\"stroke:#000000; stroke-width:4; stroke-opacity:1; fill:none\" points=\"\n",
       "  134.584,1486.45 2352.76,1486.45 \n",
       "  \"/>\n",
       "<polyline clip-path=\"url(#clip430)\" style=\"stroke:#000000; stroke-width:4; stroke-opacity:1; fill:none\" points=\"\n",
       "  134.584,1486.45 134.584,1470.09 \n",
       "  \"/>\n",
       "<polyline clip-path=\"url(#clip430)\" style=\"stroke:#000000; stroke-width:4; stroke-opacity:1; fill:none\" points=\"\n",
       "  504.28,1486.45 504.28,1470.09 \n",
       "  \"/>\n",
       "<polyline clip-path=\"url(#clip430)\" style=\"stroke:#000000; stroke-width:4; stroke-opacity:1; fill:none\" points=\"\n",
       "  873.975,1486.45 873.975,1470.09 \n",
       "  \"/>\n",
       "<polyline clip-path=\"url(#clip430)\" style=\"stroke:#000000; stroke-width:4; stroke-opacity:1; fill:none\" points=\"\n",
       "  1243.67,1486.45 1243.67,1470.09 \n",
       "  \"/>\n",
       "<polyline clip-path=\"url(#clip430)\" style=\"stroke:#000000; stroke-width:4; stroke-opacity:1; fill:none\" points=\"\n",
       "  1613.37,1486.45 1613.37,1470.09 \n",
       "  \"/>\n",
       "<polyline clip-path=\"url(#clip430)\" style=\"stroke:#000000; stroke-width:4; stroke-opacity:1; fill:none\" points=\"\n",
       "  1983.06,1486.45 1983.06,1470.09 \n",
       "  \"/>\n",
       "<polyline clip-path=\"url(#clip430)\" style=\"stroke:#000000; stroke-width:4; stroke-opacity:1; fill:none\" points=\"\n",
       "  2352.76,1486.45 2352.76,1470.09 \n",
       "  \"/>\n",
       "<path clip-path=\"url(#clip430)\" d=\"M 0 0 M124.862 1512.56 L143.219 1512.56 L143.219 1516.5 L129.145 1516.5 L129.145 1524.97 Q130.163 1524.62 131.182 1524.46 Q132.2 1524.27 133.219 1524.27 Q139.006 1524.27 142.385 1527.44 Q145.765 1530.62 145.765 1536.03 Q145.765 1541.61 142.293 1544.71 Q138.821 1547.79 132.501 1547.79 Q130.325 1547.79 128.057 1547.42 Q125.811 1547.05 123.404 1546.31 L123.404 1541.61 Q125.487 1542.74 127.71 1543.3 Q129.932 1543.86 132.409 1543.86 Q136.413 1543.86 138.751 1541.75 Q141.089 1539.64 141.089 1536.03 Q141.089 1532.42 138.751 1530.31 Q136.413 1528.21 132.409 1528.21 Q130.534 1528.21 128.659 1528.62 Q126.807 1529.04 124.862 1529.92 L124.862 1512.56 Z\" fill=\"#000000\" fill-rule=\"evenodd\" fill-opacity=\"1\" /><path clip-path=\"url(#clip430)\" d=\"M 0 0 M504.685 1527.98 Q501.537 1527.98 499.685 1530.13 Q497.856 1532.28 497.856 1536.03 Q497.856 1539.76 499.685 1541.93 Q501.537 1544.09 504.685 1544.09 Q507.833 1544.09 509.662 1541.93 Q511.513 1539.76 511.513 1536.03 Q511.513 1532.28 509.662 1530.13 Q507.833 1527.98 504.685 1527.98 M513.967 1513.32 L513.967 1517.58 Q512.208 1516.75 510.402 1516.31 Q508.62 1515.87 506.861 1515.87 Q502.231 1515.87 499.777 1519 Q497.347 1522.12 497 1528.44 Q498.365 1526.43 500.426 1525.36 Q502.486 1524.27 504.963 1524.27 Q510.171 1524.27 513.18 1527.44 Q516.213 1530.59 516.213 1536.03 Q516.213 1541.36 513.064 1544.57 Q509.916 1547.79 504.685 1547.79 Q498.689 1547.79 495.518 1543.21 Q492.347 1538.6 492.347 1529.87 Q492.347 1521.68 496.236 1516.82 Q500.125 1511.93 506.676 1511.93 Q508.435 1511.93 510.217 1512.28 Q512.023 1512.63 513.967 1513.32 Z\" fill=\"#000000\" fill-rule=\"evenodd\" fill-opacity=\"1\" /><path clip-path=\"url(#clip430)\" d=\"M 0 0 M862.864 1512.56 L885.086 1512.56 L885.086 1514.55 L872.54 1547.12 L867.656 1547.12 L879.461 1516.5 L862.864 1516.5 L862.864 1512.56 Z\" fill=\"#000000\" fill-rule=\"evenodd\" fill-opacity=\"1\" /><path clip-path=\"url(#clip430)\" d=\"M 0 0 M1243.67 1530.71 Q1240.34 1530.71 1238.42 1532.49 Q1236.52 1534.27 1236.52 1537.4 Q1236.52 1540.52 1238.42 1542.31 Q1240.34 1544.09 1243.67 1544.09 Q1247 1544.09 1248.92 1542.31 Q1250.85 1540.5 1250.85 1537.4 Q1250.85 1534.27 1248.92 1532.49 Q1247.03 1530.71 1243.67 1530.71 M1238.99 1528.72 Q1235.99 1527.98 1234.3 1525.92 Q1232.63 1523.86 1232.63 1520.89 Q1232.63 1516.75 1235.57 1514.34 Q1238.53 1511.93 1243.67 1511.93 Q1248.83 1511.93 1251.77 1514.34 Q1254.71 1516.75 1254.71 1520.89 Q1254.71 1523.86 1253.02 1525.92 Q1251.36 1527.98 1248.37 1528.72 Q1251.75 1529.5 1253.62 1531.8 Q1255.52 1534.09 1255.52 1537.4 Q1255.52 1542.42 1252.44 1545.11 Q1249.39 1547.79 1243.67 1547.79 Q1237.95 1547.79 1234.87 1545.11 Q1231.82 1542.42 1231.82 1537.4 Q1231.82 1534.09 1233.72 1531.8 Q1235.61 1529.5 1238.99 1528.72 M1237.28 1521.33 Q1237.28 1524.02 1238.95 1525.52 Q1240.64 1527.03 1243.67 1527.03 Q1246.68 1527.03 1248.37 1525.52 Q1250.08 1524.02 1250.08 1521.33 Q1250.08 1518.65 1248.37 1517.14 Q1246.68 1515.64 1243.67 1515.64 Q1240.64 1515.64 1238.95 1517.14 Q1237.28 1518.65 1237.28 1521.33 Z\" fill=\"#000000\" fill-rule=\"evenodd\" fill-opacity=\"1\" /><path clip-path=\"url(#clip430)\" d=\"M 0 0 M1603.67 1546.4 L1603.67 1542.14 Q1605.43 1542.98 1607.23 1543.42 Q1609.04 1543.86 1610.77 1543.86 Q1615.4 1543.86 1617.83 1540.75 Q1620.29 1537.63 1620.63 1531.29 Q1619.29 1533.28 1617.23 1534.34 Q1615.17 1535.41 1612.67 1535.41 Q1607.49 1535.41 1604.45 1532.28 Q1601.44 1529.13 1601.44 1523.69 Q1601.44 1518.37 1604.59 1515.15 Q1607.74 1511.93 1612.97 1511.93 Q1618.97 1511.93 1622.12 1516.54 Q1625.29 1521.12 1625.29 1529.87 Q1625.29 1538.05 1621.4 1542.93 Q1617.53 1547.79 1610.98 1547.79 Q1609.22 1547.79 1607.42 1547.44 Q1605.61 1547.1 1603.67 1546.4 M1612.97 1531.75 Q1616.12 1531.75 1617.95 1529.6 Q1619.8 1527.44 1619.8 1523.69 Q1619.8 1519.97 1617.95 1517.81 Q1616.12 1515.64 1612.97 1515.64 Q1609.82 1515.64 1607.97 1517.81 Q1606.14 1519.97 1606.14 1523.69 Q1606.14 1527.44 1607.97 1529.6 Q1609.82 1531.75 1612.97 1531.75 Z\" fill=\"#000000\" fill-rule=\"evenodd\" fill-opacity=\"1\" /><path clip-path=\"url(#clip430)\" d=\"M 0 0 M1959.94 1543.18 L1967.57 1543.18 L1967.57 1516.82 L1959.26 1518.49 L1959.26 1514.23 L1967.53 1512.56 L1972.2 1512.56 L1972.2 1543.18 L1979.84 1543.18 L1979.84 1547.12 L1959.94 1547.12 L1959.94 1543.18 Z\" fill=\"#000000\" fill-rule=\"evenodd\" fill-opacity=\"1\" /><path clip-path=\"url(#clip430)\" d=\"M 0 0 M1994.91 1515.64 Q1991.3 1515.64 1989.47 1519.2 Q1987.67 1522.75 1987.67 1529.87 Q1987.67 1536.98 1989.47 1540.55 Q1991.3 1544.09 1994.91 1544.09 Q1998.55 1544.09 2000.35 1540.55 Q2002.18 1536.98 2002.18 1529.87 Q2002.18 1522.75 2000.35 1519.2 Q1998.55 1515.64 1994.91 1515.64 M1994.91 1511.93 Q2000.72 1511.93 2003.78 1516.54 Q2006.86 1521.12 2006.86 1529.87 Q2006.86 1538.6 2003.78 1543.21 Q2000.72 1547.79 1994.91 1547.79 Q1989.1 1547.79 1986.02 1543.21 Q1982.97 1538.6 1982.97 1529.87 Q1982.97 1521.12 1986.02 1516.54 Q1989.1 1511.93 1994.91 1511.93 Z\" fill=\"#000000\" fill-rule=\"evenodd\" fill-opacity=\"1\" /><path clip-path=\"url(#clip430)\" d=\"M 0 0 M2330.24 1543.18 L2337.88 1543.18 L2337.88 1516.82 L2329.57 1518.49 L2329.57 1514.23 L2337.84 1512.56 L2342.51 1512.56 L2342.51 1543.18 L2350.15 1543.18 L2350.15 1547.12 L2330.24 1547.12 L2330.24 1543.18 Z\" fill=\"#000000\" fill-rule=\"evenodd\" fill-opacity=\"1\" /><path clip-path=\"url(#clip430)\" d=\"M 0 0 M2356.03 1543.18 L2363.67 1543.18 L2363.67 1516.82 L2355.36 1518.49 L2355.36 1514.23 L2363.62 1512.56 L2368.3 1512.56 L2368.3 1543.18 L2375.94 1543.18 L2375.94 1547.12 L2356.03 1547.12 L2356.03 1543.18 Z\" fill=\"#000000\" fill-rule=\"evenodd\" fill-opacity=\"1\" /><polyline clip-path=\"url(#clip432)\" style=\"stroke:#000000; stroke-width:2; stroke-opacity:0.1; fill:none\" points=\"\n",
       "  134.584,1486.45 2352.76,1486.45 \n",
       "  \"/>\n",
       "<polyline clip-path=\"url(#clip432)\" style=\"stroke:#000000; stroke-width:2; stroke-opacity:0.1; fill:none\" points=\"\n",
       "  134.584,1259.29 2352.76,1259.29 \n",
       "  \"/>\n",
       "<polyline clip-path=\"url(#clip432)\" style=\"stroke:#000000; stroke-width:2; stroke-opacity:0.1; fill:none\" points=\"\n",
       "  134.584,1032.12 2352.76,1032.12 \n",
       "  \"/>\n",
       "<polyline clip-path=\"url(#clip432)\" style=\"stroke:#000000; stroke-width:2; stroke-opacity:0.1; fill:none\" points=\"\n",
       "  134.584,804.96 2352.76,804.96 \n",
       "  \"/>\n",
       "<polyline clip-path=\"url(#clip432)\" style=\"stroke:#000000; stroke-width:2; stroke-opacity:0.1; fill:none\" points=\"\n",
       "  134.584,577.797 2352.76,577.797 \n",
       "  \"/>\n",
       "<polyline clip-path=\"url(#clip432)\" style=\"stroke:#000000; stroke-width:2; stroke-opacity:0.1; fill:none\" points=\"\n",
       "  134.584,350.635 2352.76,350.635 \n",
       "  \"/>\n",
       "<polyline clip-path=\"url(#clip432)\" style=\"stroke:#000000; stroke-width:2; stroke-opacity:0.1; fill:none\" points=\"\n",
       "  134.584,123.472 2352.76,123.472 \n",
       "  \"/>\n",
       "<polyline clip-path=\"url(#clip430)\" style=\"stroke:#000000; stroke-width:4; stroke-opacity:1; fill:none\" points=\"\n",
       "  134.584,1486.45 134.584,123.472 \n",
       "  \"/>\n",
       "<polyline clip-path=\"url(#clip430)\" style=\"stroke:#000000; stroke-width:4; stroke-opacity:1; fill:none\" points=\"\n",
       "  134.584,1486.45 161.203,1486.45 \n",
       "  \"/>\n",
       "<polyline clip-path=\"url(#clip430)\" style=\"stroke:#000000; stroke-width:4; stroke-opacity:1; fill:none\" points=\"\n",
       "  134.584,1259.29 161.203,1259.29 \n",
       "  \"/>\n",
       "<polyline clip-path=\"url(#clip430)\" style=\"stroke:#000000; stroke-width:4; stroke-opacity:1; fill:none\" points=\"\n",
       "  134.584,1032.12 161.203,1032.12 \n",
       "  \"/>\n",
       "<polyline clip-path=\"url(#clip430)\" style=\"stroke:#000000; stroke-width:4; stroke-opacity:1; fill:none\" points=\"\n",
       "  134.584,804.96 161.203,804.96 \n",
       "  \"/>\n",
       "<polyline clip-path=\"url(#clip430)\" style=\"stroke:#000000; stroke-width:4; stroke-opacity:1; fill:none\" points=\"\n",
       "  134.584,577.797 161.203,577.797 \n",
       "  \"/>\n",
       "<polyline clip-path=\"url(#clip430)\" style=\"stroke:#000000; stroke-width:4; stroke-opacity:1; fill:none\" points=\"\n",
       "  134.584,350.635 161.203,350.635 \n",
       "  \"/>\n",
       "<polyline clip-path=\"url(#clip430)\" style=\"stroke:#000000; stroke-width:4; stroke-opacity:1; fill:none\" points=\"\n",
       "  134.584,123.472 161.203,123.472 \n",
       "  \"/>\n",
       "<path clip-path=\"url(#clip430)\" d=\"M 0 0 M77.6818 1469.17 L96.0382 1469.17 L96.0382 1473.1 L81.9642 1473.1 L81.9642 1481.58 Q82.9827 1481.23 84.0012 1481.07 Q85.0197 1480.88 86.0382 1480.88 Q91.8252 1480.88 95.2049 1484.05 Q98.5845 1487.22 98.5845 1492.64 Q98.5845 1498.22 95.1123 1501.32 Q91.6401 1504.4 85.3206 1504.4 Q83.1447 1504.4 80.8762 1504.03 Q78.6309 1503.66 76.2235 1502.92 L76.2235 1498.22 Q78.3068 1499.35 80.529 1499.91 Q82.7512 1500.46 85.2281 1500.46 Q89.2327 1500.46 91.5706 1498.36 Q93.9086 1496.25 93.9086 1492.64 Q93.9086 1489.03 91.5706 1486.92 Q89.2327 1484.82 85.2281 1484.82 Q83.3531 1484.82 81.4781 1485.23 Q79.6262 1485.65 77.6818 1486.53 L77.6818 1469.17 Z\" fill=\"#000000\" fill-rule=\"evenodd\" fill-opacity=\"1\" /><path clip-path=\"url(#clip430)\" d=\"M 0 0 M87.0567 1257.42 Q83.9086 1257.42 82.0568 1259.57 Q80.2281 1261.73 80.2281 1265.48 Q80.2281 1269.2 82.0568 1271.38 Q83.9086 1273.53 87.0567 1273.53 Q90.2049 1273.53 92.0336 1271.38 Q93.8854 1269.2 93.8854 1265.48 Q93.8854 1261.73 92.0336 1259.57 Q90.2049 1257.42 87.0567 1257.42 M96.3391 1242.77 L96.3391 1247.03 Q94.5799 1246.2 92.7743 1245.76 Q90.9919 1245.32 89.2327 1245.32 Q84.6031 1245.32 82.1494 1248.44 Q79.7188 1251.57 79.3716 1257.88 Q80.7373 1255.87 82.7975 1254.81 Q84.8577 1253.72 87.3345 1253.72 Q92.5428 1253.72 95.5521 1256.89 Q98.5845 1260.04 98.5845 1265.48 Q98.5845 1270.8 95.4363 1274.02 Q92.2882 1277.24 87.0567 1277.24 Q81.0614 1277.24 77.8901 1272.65 Q74.7189 1268.05 74.7189 1259.32 Q74.7189 1251.13 78.6077 1246.26 Q82.4966 1241.38 89.0475 1241.38 Q90.8067 1241.38 92.5891 1241.73 Q94.3947 1242.07 96.3391 1242.77 Z\" fill=\"#000000\" fill-rule=\"evenodd\" fill-opacity=\"1\" /><path clip-path=\"url(#clip430)\" d=\"M 0 0 M76.3624 1014.84 L98.5845 1014.84 L98.5845 1016.83 L86.0382 1049.4 L81.154 1049.4 L92.9595 1018.78 L76.3624 1018.78 L76.3624 1014.84 Z\" fill=\"#000000\" fill-rule=\"evenodd\" fill-opacity=\"1\" /><path clip-path=\"url(#clip430)\" d=\"M 0 0 M86.7327 805.828 Q83.3994 805.828 81.4781 807.61 Q79.5799 809.393 79.5799 812.518 Q79.5799 815.643 81.4781 817.425 Q83.3994 819.208 86.7327 819.208 Q90.066 819.208 91.9873 817.425 Q93.9086 815.62 93.9086 812.518 Q93.9086 809.393 91.9873 807.61 Q90.0891 805.828 86.7327 805.828 M82.0568 803.837 Q79.0475 803.097 77.3577 801.036 Q75.6911 798.976 75.6911 796.013 Q75.6911 791.87 78.6309 789.462 Q81.5938 787.055 86.7327 787.055 Q91.8947 787.055 94.8345 789.462 Q97.7743 791.87 97.7743 796.013 Q97.7743 798.976 96.0845 801.036 Q94.4178 803.097 91.4317 803.837 Q94.8113 804.624 96.6863 806.916 Q98.5845 809.208 98.5845 812.518 Q98.5845 817.541 95.5058 820.226 Q92.4502 822.911 86.7327 822.911 Q81.0151 822.911 77.9364 820.226 Q74.8809 817.541 74.8809 812.518 Q74.8809 809.208 76.779 806.916 Q78.6772 804.624 82.0568 803.837 M80.3438 796.453 Q80.3438 799.138 82.0105 800.643 Q83.7003 802.148 86.7327 802.148 Q89.7419 802.148 91.4317 800.643 Q93.1447 799.138 93.1447 796.453 Q93.1447 793.768 91.4317 792.263 Q89.7419 790.759 86.7327 790.759 Q83.7003 790.759 82.0105 792.263 Q80.3438 793.768 80.3438 796.453 Z\" fill=\"#000000\" fill-rule=\"evenodd\" fill-opacity=\"1\" /><path clip-path=\"url(#clip430)\" d=\"M 0 0 M76.9642 594.36 L76.9642 590.101 Q78.7235 590.934 80.529 591.374 Q82.3346 591.814 84.0707 591.814 Q88.7003 591.814 91.1308 588.712 Q93.5845 585.587 93.9317 579.244 Q92.5891 581.235 90.529 582.3 Q88.4688 583.364 85.9688 583.364 Q80.7836 583.364 77.7512 580.239 Q74.742 577.091 74.742 571.652 Q74.742 566.328 77.8901 563.11 Q81.0383 559.892 86.2697 559.892 Q92.2651 559.892 95.4132 564.499 Q98.5845 569.082 98.5845 577.832 Q98.5845 586.003 94.6956 590.888 Q90.8299 595.749 84.279 595.749 Q82.5197 595.749 80.7142 595.401 Q78.9086 595.054 76.9642 594.36 M86.2697 579.707 Q89.4178 579.707 91.2465 577.554 Q93.0984 575.402 93.0984 571.652 Q93.0984 567.925 91.2465 565.772 Q89.4178 563.596 86.2697 563.596 Q83.1216 563.596 81.2697 565.772 Q79.441 567.925 79.441 571.652 Q79.441 575.402 81.2697 577.554 Q83.1216 579.707 86.2697 579.707 Z\" fill=\"#000000\" fill-rule=\"evenodd\" fill-opacity=\"1\" /><path clip-path=\"url(#clip430)\" d=\"M 0 0 M51.6634 363.98 L59.3023 363.98 L59.3023 337.614 L50.9921 339.281 L50.9921 335.021 L59.256 333.355 L63.9319 333.355 L63.9319 363.98 L71.5707 363.98 L71.5707 367.915 L51.6634 367.915 L51.6634 363.98 Z\" fill=\"#000000\" fill-rule=\"evenodd\" fill-opacity=\"1\" /><path clip-path=\"url(#clip430)\" d=\"M 0 0 M86.6401 336.433 Q83.029 336.433 81.2003 339.998 Q79.3948 343.54 79.3948 350.669 Q79.3948 357.776 81.2003 361.341 Q83.029 364.882 86.6401 364.882 Q90.2743 364.882 92.0799 361.341 Q93.9086 357.776 93.9086 350.669 Q93.9086 343.54 92.0799 339.998 Q90.2743 336.433 86.6401 336.433 M86.6401 332.73 Q92.4502 332.73 95.5058 337.336 Q98.5845 341.92 98.5845 350.669 Q98.5845 359.396 95.5058 364.003 Q92.4502 368.586 86.6401 368.586 Q80.8299 368.586 77.7512 364.003 Q74.6957 359.396 74.6957 350.669 Q74.6957 341.92 77.7512 337.336 Q80.8299 332.73 86.6401 332.73 Z\" fill=\"#000000\" fill-rule=\"evenodd\" fill-opacity=\"1\" /><path clip-path=\"url(#clip430)\" d=\"M 0 0 M52.8903 136.817 L60.5291 136.817 L60.5291 110.451 L52.219 112.118 L52.219 107.859 L60.4828 106.192 L65.1587 106.192 L65.1587 136.817 L72.7976 136.817 L72.7976 140.752 L52.8903 140.752 L52.8903 136.817 Z\" fill=\"#000000\" fill-rule=\"evenodd\" fill-opacity=\"1\" /><path clip-path=\"url(#clip430)\" d=\"M 0 0 M78.6772 136.817 L86.316 136.817 L86.316 110.451 L78.0059 112.118 L78.0059 107.859 L86.2697 106.192 L90.9456 106.192 L90.9456 136.817 L98.5845 136.817 L98.5845 140.752 L78.6772 140.752 L78.6772 136.817 Z\" fill=\"#000000\" fill-rule=\"evenodd\" fill-opacity=\"1\" /><path clip-path=\"url(#clip430)\" d=\"M 0 0 M876.273 20.1573 L865.174 50.2555 L887.413 50.2555 L876.273 20.1573 M871.655 12.096 L880.932 12.096 L903.982 72.576 L895.475 72.576 L889.965 57.061 L862.703 57.061 L857.194 72.576 L848.565 72.576 L871.655 12.096 Z\" fill=\"#000000\" fill-rule=\"evenodd\" fill-opacity=\"1\" /><path clip-path=\"url(#clip430)\" d=\"M 0 0 M942.992 28.9478 L942.992 35.9153 Q939.832 34.1734 936.632 33.3227 Q933.472 32.4315 930.231 32.4315 Q922.98 32.4315 918.97 37.0496 Q914.96 41.6271 914.96 49.9314 Q914.96 58.2358 918.97 62.8538 Q922.98 67.4314 930.231 67.4314 Q933.472 67.4314 936.632 66.5807 Q939.832 65.6895 942.992 63.9476 L942.992 70.8341 Q939.873 72.2924 936.51 73.0216 Q933.189 73.7508 929.421 73.7508 Q919.173 73.7508 913.137 67.3098 Q907.101 60.8689 907.101 49.9314 Q907.101 38.832 913.177 32.472 Q919.294 26.1121 929.907 26.1121 Q933.351 26.1121 936.632 26.8413 Q939.913 27.5299 942.992 28.9478 Z\" fill=\"#000000\" fill-rule=\"evenodd\" fill-opacity=\"1\" /><path clip-path=\"url(#clip430)\" d=\"M 0 0 M958.183 14.324 L958.183 27.2059 L973.536 27.2059 L973.536 32.9987 L958.183 32.9987 L958.183 57.6282 Q958.183 63.1779 959.682 64.7578 Q961.221 66.3376 965.879 66.3376 L973.536 66.3376 L973.536 72.576 L965.879 72.576 Q957.251 72.576 953.97 69.3758 Q950.689 66.1351 950.689 57.6282 L950.689 32.9987 L945.22 32.9987 L945.22 27.2059 L950.689 27.2059 L950.689 14.324 L958.183 14.324 Z\" fill=\"#000000\" fill-rule=\"evenodd\" fill-opacity=\"1\" /><path clip-path=\"url(#clip430)\" d=\"M 0 0 M981.354 27.2059 L988.808 27.2059 L988.808 72.576 L981.354 72.576 L981.354 27.2059 M981.354 9.54393 L988.808 9.54393 L988.808 18.9825 L981.354 18.9825 L981.354 9.54393 Z\" fill=\"#000000\" fill-rule=\"evenodd\" fill-opacity=\"1\" /><path clip-path=\"url(#clip430)\" d=\"M 0 0 M1014.21 32.4315 Q1008.21 32.4315 1004.73 37.1306 Q1001.24 41.7891 1001.24 49.9314 Q1001.24 58.0738 1004.69 62.7728 Q1008.17 67.4314 1014.21 67.4314 Q1020.16 67.4314 1023.65 62.7323 Q1027.13 58.0333 1027.13 49.9314 Q1027.13 41.8701 1023.65 37.1711 Q1020.16 32.4315 1014.21 32.4315 M1014.21 26.1121 Q1023.93 26.1121 1029.48 32.4315 Q1035.03 38.7509 1035.03 49.9314 Q1035.03 61.0714 1029.48 67.4314 Q1023.93 73.7508 1014.21 73.7508 Q1004.44 73.7508 998.894 67.4314 Q993.385 61.0714 993.385 49.9314 Q993.385 38.7509 998.894 32.4315 Q1004.44 26.1121 1014.21 26.1121 Z\" fill=\"#000000\" fill-rule=\"evenodd\" fill-opacity=\"1\" /><path clip-path=\"url(#clip430)\" d=\"M 0 0 M1080.56 45.1919 L1080.56 72.576 L1073.11 72.576 L1073.11 45.4349 Q1073.11 38.994 1070.6 35.7938 Q1068.08 32.5936 1063.06 32.5936 Q1057.02 32.5936 1053.54 36.4419 Q1050.06 40.2903 1050.06 46.9338 L1050.06 72.576 L1042.56 72.576 L1042.56 27.2059 L1050.06 27.2059 L1050.06 34.2544 Q1052.73 30.163 1056.34 28.1376 Q1059.98 26.1121 1064.72 26.1121 Q1072.54 26.1121 1076.55 30.9732 Q1080.56 35.7938 1080.56 45.1919 Z\" fill=\"#000000\" fill-rule=\"evenodd\" fill-opacity=\"1\" /><path clip-path=\"url(#clip430)\" d=\"M 0 0 M1135.37 49.7694 Q1126.34 49.7694 1122.85 51.8354 Q1119.37 53.9013 1119.37 58.8839 Q1119.37 62.8538 1121.96 65.2034 Q1124.59 67.5124 1129.09 67.5124 Q1135.29 67.5124 1139.02 63.1374 Q1142.78 58.7219 1142.78 51.4303 L1142.78 49.7694 L1135.37 49.7694 M1150.24 46.6907 L1150.24 72.576 L1142.78 72.576 L1142.78 65.6895 Q1140.23 69.8214 1136.42 71.8063 Q1132.61 73.7508 1127.11 73.7508 Q1120.14 73.7508 1116.01 69.8619 Q1111.91 65.9325 1111.91 59.3701 Q1111.91 51.7138 1117.02 47.825 Q1122.16 43.9361 1132.33 43.9361 L1142.78 43.9361 L1142.78 43.2069 Q1142.78 38.0623 1139.38 35.2672 Q1136.02 32.4315 1129.9 32.4315 Q1126.01 32.4315 1122.33 33.3632 Q1118.64 34.295 1115.24 36.1584 L1115.24 29.2718 Q1119.33 27.692 1123.18 26.9223 Q1127.02 26.1121 1130.67 26.1121 Q1140.51 26.1121 1145.37 31.2163 Q1150.24 36.3204 1150.24 46.6907 Z\" fill=\"#000000\" fill-rule=\"evenodd\" fill-opacity=\"1\" /><path clip-path=\"url(#clip430)\" d=\"M 0 0 M1195.77 45.1919 L1195.77 72.576 L1188.31 72.576 L1188.31 45.4349 Q1188.31 38.994 1185.8 35.7938 Q1183.29 32.5936 1178.27 32.5936 Q1172.23 32.5936 1168.75 36.4419 Q1165.26 40.2903 1165.26 46.9338 L1165.26 72.576 L1157.77 72.576 L1157.77 27.2059 L1165.26 27.2059 L1165.26 34.2544 Q1167.94 30.163 1171.54 28.1376 Q1175.19 26.1121 1179.93 26.1121 Q1187.75 26.1121 1191.76 30.9732 Q1195.77 35.7938 1195.77 45.1919 Z\" fill=\"#000000\" fill-rule=\"evenodd\" fill-opacity=\"1\" /><path clip-path=\"url(#clip430)\" d=\"M 0 0 M1233.44 34.0924 L1233.44 9.54393 L1240.9 9.54393 L1240.9 72.576 L1233.44 72.576 L1233.44 65.7705 Q1231.09 69.8214 1227.49 71.8063 Q1223.92 73.7508 1218.9 73.7508 Q1210.68 73.7508 1205.49 67.1883 Q1200.35 60.6258 1200.35 49.9314 Q1200.35 39.2371 1205.49 32.6746 Q1210.68 26.1121 1218.9 26.1121 Q1223.92 26.1121 1227.49 28.0971 Q1231.09 30.0415 1233.44 34.0924 M1208.04 49.9314 Q1208.04 58.1548 1211.4 62.8538 Q1214.81 67.5124 1220.72 67.5124 Q1226.64 67.5124 1230.04 62.8538 Q1233.44 58.1548 1233.44 49.9314 Q1233.44 41.7081 1230.04 37.0496 Q1226.64 32.3505 1220.72 32.3505 Q1214.81 32.3505 1211.4 37.0496 Q1208.04 41.7081 1208.04 49.9314 Z\" fill=\"#000000\" fill-rule=\"evenodd\" fill-opacity=\"1\" /><path clip-path=\"url(#clip430)\" d=\"M 0 0 M1295.62 20.1573 L1284.52 50.2555 L1306.76 50.2555 L1295.62 20.1573 M1291.01 12.096 L1300.28 12.096 L1323.33 72.576 L1314.82 72.576 L1309.32 57.061 L1282.05 57.061 L1276.54 72.576 L1267.91 72.576 L1291.01 12.096 Z\" fill=\"#000000\" fill-rule=\"evenodd\" fill-opacity=\"1\" /><path clip-path=\"url(#clip430)\" d=\"M 0 0 M1368.86 45.1919 L1368.86 72.576 L1361.41 72.576 L1361.41 45.4349 Q1361.41 38.994 1358.9 35.7938 Q1356.39 32.5936 1351.36 32.5936 Q1345.33 32.5936 1341.84 36.4419 Q1338.36 40.2903 1338.36 46.9338 L1338.36 72.576 L1330.87 72.576 L1330.87 27.2059 L1338.36 27.2059 L1338.36 34.2544 Q1341.03 30.163 1344.64 28.1376 Q1348.28 26.1121 1353.02 26.1121 Q1360.84 26.1121 1364.85 30.9732 Q1368.86 35.7938 1368.86 45.1919 Z\" fill=\"#000000\" fill-rule=\"evenodd\" fill-opacity=\"1\" /><path clip-path=\"url(#clip430)\" d=\"M 0 0 M1376.68 27.2059 L1384.14 27.2059 L1384.14 72.576 L1376.68 72.576 L1376.68 27.2059 M1376.68 9.54393 L1384.14 9.54393 L1384.14 18.9825 L1376.68 18.9825 L1376.68 9.54393 Z\" fill=\"#000000\" fill-rule=\"evenodd\" fill-opacity=\"1\" /><path clip-path=\"url(#clip430)\" d=\"M 0 0 M1427.28 35.9153 Q1430.07 30.8922 1433.96 28.5022 Q1437.85 26.1121 1443.12 26.1121 Q1450.21 26.1121 1454.05 31.0947 Q1457.9 36.0368 1457.9 45.1919 L1457.9 72.576 L1450.41 72.576 L1450.41 45.4349 Q1450.41 38.913 1448.1 35.7533 Q1445.79 32.5936 1441.05 32.5936 Q1435.26 32.5936 1431.9 36.4419 Q1428.53 40.2903 1428.53 46.9338 L1428.53 72.576 L1421.04 72.576 L1421.04 45.4349 Q1421.04 38.8725 1418.73 35.7533 Q1416.42 32.5936 1411.6 32.5936 Q1405.89 32.5936 1402.53 36.4824 Q1399.16 40.3308 1399.16 46.9338 L1399.16 72.576 L1391.67 72.576 L1391.67 27.2059 L1399.16 27.2059 L1399.16 34.2544 Q1401.72 30.082 1405.28 28.0971 Q1408.85 26.1121 1413.75 26.1121 Q1418.69 26.1121 1422.13 28.6237 Q1425.62 31.1352 1427.28 35.9153 Z\" fill=\"#000000\" fill-rule=\"evenodd\" fill-opacity=\"1\" /><path clip-path=\"url(#clip430)\" d=\"M 0 0 M1486.34 49.7694 Q1477.31 49.7694 1473.82 51.8354 Q1470.34 53.9013 1470.34 58.8839 Q1470.34 62.8538 1472.93 65.2034 Q1475.56 67.5124 1480.06 67.5124 Q1486.26 67.5124 1489.99 63.1374 Q1493.75 58.7219 1493.75 51.4303 L1493.75 49.7694 L1486.34 49.7694 M1501.21 46.6907 L1501.21 72.576 L1493.75 72.576 L1493.75 65.6895 Q1491.2 69.8214 1487.39 71.8063 Q1483.58 73.7508 1478.08 73.7508 Q1471.11 73.7508 1466.98 69.8619 Q1462.88 65.9325 1462.88 59.3701 Q1462.88 51.7138 1467.99 47.825 Q1473.13 43.9361 1483.3 43.9361 L1493.75 43.9361 L1493.75 43.2069 Q1493.75 38.0623 1490.35 35.2672 Q1486.99 32.4315 1480.87 32.4315 Q1476.98 32.4315 1473.3 33.3632 Q1469.61 34.295 1466.21 36.1584 L1466.21 29.2718 Q1470.3 27.692 1474.15 26.9223 Q1477.99 26.1121 1481.64 26.1121 Q1491.48 26.1121 1496.35 31.2163 Q1501.21 36.3204 1501.21 46.6907 Z\" fill=\"#000000\" fill-rule=\"evenodd\" fill-opacity=\"1\" /><path clip-path=\"url(#clip430)\" d=\"M 0 0 M1516.4 14.324 L1516.4 27.2059 L1531.75 27.2059 L1531.75 32.9987 L1516.4 32.9987 L1516.4 57.6282 Q1516.4 63.1779 1517.9 64.7578 Q1519.44 66.3376 1524.09 66.3376 L1531.75 66.3376 L1531.75 72.576 L1524.09 72.576 Q1515.47 72.576 1512.18 69.3758 Q1508.9 66.1351 1508.9 57.6282 L1508.9 32.9987 L1503.43 32.9987 L1503.43 27.2059 L1508.9 27.2059 L1508.9 14.324 L1516.4 14.324 Z\" fill=\"#000000\" fill-rule=\"evenodd\" fill-opacity=\"1\" /><path clip-path=\"url(#clip430)\" d=\"M 0 0 M1539.57 27.2059 L1547.02 27.2059 L1547.02 72.576 L1539.57 72.576 L1539.57 27.2059 M1539.57 9.54393 L1547.02 9.54393 L1547.02 18.9825 L1539.57 18.9825 L1539.57 9.54393 Z\" fill=\"#000000\" fill-rule=\"evenodd\" fill-opacity=\"1\" /><path clip-path=\"url(#clip430)\" d=\"M 0 0 M1572.42 32.4315 Q1566.43 32.4315 1562.94 37.1306 Q1559.46 41.7891 1559.46 49.9314 Q1559.46 58.0738 1562.9 62.7728 Q1566.39 67.4314 1572.42 67.4314 Q1578.38 67.4314 1581.86 62.7323 Q1585.34 58.0333 1585.34 49.9314 Q1585.34 41.8701 1581.86 37.1711 Q1578.38 32.4315 1572.42 32.4315 M1572.42 26.1121 Q1582.14 26.1121 1587.69 32.4315 Q1593.24 38.7509 1593.24 49.9314 Q1593.24 61.0714 1587.69 67.4314 Q1582.14 73.7508 1572.42 73.7508 Q1562.66 73.7508 1557.11 67.4314 Q1551.6 61.0714 1551.6 49.9314 Q1551.6 38.7509 1557.11 32.4315 Q1562.66 26.1121 1572.42 26.1121 Z\" fill=\"#000000\" fill-rule=\"evenodd\" fill-opacity=\"1\" /><path clip-path=\"url(#clip430)\" d=\"M 0 0 M1638.78 45.1919 L1638.78 72.576 L1631.32 72.576 L1631.32 45.4349 Q1631.32 38.994 1628.81 35.7938 Q1626.3 32.5936 1621.28 32.5936 Q1615.24 32.5936 1611.76 36.4419 Q1608.27 40.2903 1608.27 46.9338 L1608.27 72.576 L1600.78 72.576 L1600.78 27.2059 L1608.27 27.2059 L1608.27 34.2544 Q1610.95 30.163 1614.55 28.1376 Q1618.2 26.1121 1622.94 26.1121 Q1630.75 26.1121 1634.76 30.9732 Q1638.78 35.7938 1638.78 45.1919 Z\" fill=\"#000000\" fill-rule=\"evenodd\" fill-opacity=\"1\" /><circle clip-path=\"url(#clip432)\" cx=\"1613.37\" cy=\"350.635\" r=\"14\" fill=\"#009af9\" fill-rule=\"evenodd\" fill-opacity=\"1\" stroke=\"#000000\" stroke-opacity=\"1\" stroke-width=\"3.2\"/>\n",
       "<circle clip-path=\"url(#clip432)\" cx=\"1243.67\" cy=\"1032.12\" r=\"14\" fill=\"#009af9\" fill-rule=\"evenodd\" fill-opacity=\"1\" stroke=\"#000000\" stroke-opacity=\"1\" stroke-width=\"3.2\"/>\n",
       "<circle clip-path=\"url(#clip432)\" cx=\"873.975\" cy=\"804.96\" r=\"14\" fill=\"#009af9\" fill-rule=\"evenodd\" fill-opacity=\"1\" stroke=\"#000000\" stroke-opacity=\"1\" stroke-width=\"3.2\"/>\n",
       "<circle clip-path=\"url(#clip432)\" cx=\"1243.67\" cy=\"577.797\" r=\"14\" fill=\"#009af9\" fill-rule=\"evenodd\" fill-opacity=\"1\" stroke=\"#000000\" stroke-opacity=\"1\" stroke-width=\"3.2\"/>\n",
       "<polyline clip-path=\"url(#clip432)\" style=\"stroke:#ff0000; stroke-width:8; stroke-opacity:1; fill:none\" points=\"\n",
       "  873.975,918.541 1613.37,464.216 \n",
       "  \"/>\n",
       "</svg>\n"
      ]
     },
     "execution_count": 36,
     "metadata": {},
     "output_type": "execute_result"
    }
   ],
   "source": [
    "@df action_and_animation_in_common scatter([:Action], [:Animation], smooth = true, line = :red, linewidth = 2, title = \"Action and Animation\", legend = false, xlimits = (5, 11), ylimits = (5, 11))"
   ]
  },
  {
   "cell_type": "code",
   "execution_count": 37,
   "metadata": {},
   "outputs": [
    {
     "data": {
      "text/plain": [
       "0.6324555320336759"
      ]
     },
     "execution_count": 37,
     "metadata": {},
     "output_type": "execute_result"
    }
   ],
   "source": [
    "using Statistics\n",
    "cor(action_and_animation_in_common[:Action], action_and_animation_in_common[:Animation])"
   ]
  },
  {
   "cell_type": "code",
   "execution_count": 38,
   "metadata": {},
   "outputs": [
    {
     "data": {
      "text/html": [
       "<table class=\"data-frame\"><thead><tr><th></th><th>Movie title</th><th>Action</th><th>Animation</th></tr><tr><th></th><th>String</th><th>Int64?</th><th>Int64?</th></tr></thead><tbody><p>4 rows × 3 columns</p><tr><th>1</th><td>key (2019)</td><td>5</td><td>0</td></tr><tr><th>2</th><td>paharganj(2019)</td><td>3</td><td>0</td></tr><tr><th>3</th><td>kabir singh (2019)</td><td>6</td><td>0</td></tr><tr><th>4</th><td>shazam (2019)</td><td>10</td><td>0</td></tr></tbody></table>"
      ],
      "text/latex": [
       "\\begin{tabular}{r|ccc}\n",
       "\t& Movie title & Action & Animation\\\\\n",
       "\t\\hline\n",
       "\t& String & Int64? & Int64?\\\\\n",
       "\t\\hline\n",
       "\t1 & key (2019) & 5 & 0 \\\\\n",
       "\t2 & paharganj(2019) & 3 & 0 \\\\\n",
       "\t3 & kabir singh (2019) & 6 & 0 \\\\\n",
       "\t4 & shazam (2019) & 10 & 0 \\\\\n",
       "\\end{tabular}\n"
      ],
      "text/plain": [
       "4×3 DataFrame\n",
       "│ Row │ Movie title        │ Action │ Animation │\n",
       "│     │ \u001b[90mString\u001b[39m             │ \u001b[90mInt64?\u001b[39m │ \u001b[90mInt64?\u001b[39m    │\n",
       "├─────┼────────────────────┼────────┼───────────┤\n",
       "│ 1   │ key (2019)         │ 5      │ 0         │\n",
       "│ 2   │ paharganj(2019)    │ 3      │ 0         │\n",
       "│ 3   │ kabir singh (2019) │ 6      │ 0         │\n",
       "│ 4   │ shazam (2019)      │ 10     │ 0         │"
      ]
     },
     "execution_count": 38,
     "metadata": {},
     "output_type": "execute_result"
    }
   ],
   "source": [
    "animation_recommendations = action_and_animation[(action_and_animation[:Animation] .== 0) .& (action_and_animation[:Action] .> 0), :]"
   ]
  },
  {
   "cell_type": "code",
   "execution_count": 39,
   "metadata": {},
   "outputs": [
    {
     "data": {
      "text/html": [
       "<table class=\"data-frame\"><thead><tr><th></th><th>Movie title</th><th>Drama</th><th>Kids</th></tr><tr><th></th><th>String</th><th>Int64?</th><th>Int64?</th></tr></thead><tbody><p>20 rows × 3 columns</p><tr><th>1</th><td>Bala (2019)</td><td>10</td><td>0</td></tr><tr><th>2</th><td>The Wonderland (2019)</td><td>0</td><td>10</td></tr><tr><th>3</th><td>key (2019)</td><td>10</td><td>0</td></tr><tr><th>4</th><td>paharganj(2019)</td><td>10</td><td>0</td></tr><tr><th>5</th><td>kabir singh (2019)</td><td>9</td><td>0</td></tr><tr><th>6</th><td>The lion king (2019)</td><td>2</td><td>9</td></tr><tr><th>7</th><td>super 30 (2019)</td><td>8</td><td>0</td></tr><tr><th>8</th><td>frozen 2 (2019)</td><td>4</td><td>10</td></tr><tr><th>9</th><td>shazam (2019)</td><td>6</td><td>0</td></tr><tr><th>10</th><td>how to train your dragan (2019)</td><td>0</td><td>10</td></tr><tr><th>11</th><td>The zoya factor (2019)</td><td>10</td><td>0</td></tr><tr><th>12</th><td>Made in china (2019)</td><td>10</td><td>0</td></tr><tr><th>13</th><td>housefull 4(2019)</td><td>10</td><td>0</td></tr><tr><th>14</th><td>Badla (2019)</td><td>10</td><td>0</td></tr><tr><th>15</th><td>Article 15 (2019)</td><td>10</td><td>0</td></tr><tr><th>16</th><td>kesari(2019)</td><td>10</td><td>0</td></tr><tr><th>17</th><td>panipat (2019)</td><td>10</td><td>0</td></tr><tr><th>18</th><td>petta(2019)</td><td>10</td><td>0</td></tr><tr><th>19</th><td>Bypass road(2019)</td><td>10</td><td>0</td></tr><tr><th>20</th><td>manikarika (2019)</td><td>10</td><td>0</td></tr></tbody></table>"
      ],
      "text/latex": [
       "\\begin{tabular}{r|ccc}\n",
       "\t& Movie title & Drama & Kids\\\\\n",
       "\t\\hline\n",
       "\t& String & Int64? & Int64?\\\\\n",
       "\t\\hline\n",
       "\t1 & Bala (2019) & 10 & 0 \\\\\n",
       "\t2 & The Wonderland (2019) & 0 & 10 \\\\\n",
       "\t3 & key (2019) & 10 & 0 \\\\\n",
       "\t4 & paharganj(2019) & 10 & 0 \\\\\n",
       "\t5 & kabir singh (2019) & 9 & 0 \\\\\n",
       "\t6 & The lion king (2019) & 2 & 9 \\\\\n",
       "\t7 & super 30 (2019) & 8 & 0 \\\\\n",
       "\t8 & frozen 2 (2019) & 4 & 10 \\\\\n",
       "\t9 & shazam (2019) & 6 & 0 \\\\\n",
       "\t10 & how to train your dragan (2019) & 0 & 10 \\\\\n",
       "\t11 & The zoya factor (2019) & 10 & 0 \\\\\n",
       "\t12 & Made in china (2019) & 10 & 0 \\\\\n",
       "\t13 & housefull 4(2019) & 10 & 0 \\\\\n",
       "\t14 & Badla (2019) & 10 & 0 \\\\\n",
       "\t15 & Article 15 (2019) & 10 & 0 \\\\\n",
       "\t16 & kesari(2019) & 10 & 0 \\\\\n",
       "\t17 & panipat (2019) & 10 & 0 \\\\\n",
       "\t18 & petta(2019) & 10 & 0 \\\\\n",
       "\t19 & Bypass road(2019) & 10 & 0 \\\\\n",
       "\t20 & manikarika (2019) & 10 & 0 \\\\\n",
       "\\end{tabular}\n"
      ],
      "text/plain": [
       "20×3 DataFrame\n",
       "│ Row │ Movie title                     │ Drama  │ Kids   │\n",
       "│     │ \u001b[90mString\u001b[39m                          │ \u001b[90mInt64?\u001b[39m │ \u001b[90mInt64?\u001b[39m │\n",
       "├─────┼─────────────────────────────────┼────────┼────────┤\n",
       "│ 1   │ Bala (2019)                     │ 10     │ 0      │\n",
       "│ 2   │ The Wonderland (2019)           │ 0      │ 10     │\n",
       "│ 3   │ key (2019)                      │ 10     │ 0      │\n",
       "│ 4   │ paharganj(2019)                 │ 10     │ 0      │\n",
       "│ 5   │ kabir singh (2019)              │ 9      │ 0      │\n",
       "│ 6   │ The lion king (2019)            │ 2      │ 9      │\n",
       "│ 7   │ super 30 (2019)                 │ 8      │ 0      │\n",
       "│ 8   │ frozen 2 (2019)                 │ 4      │ 10     │\n",
       "│ 9   │ shazam (2019)                   │ 6      │ 0      │\n",
       "│ 10  │ how to train your dragan (2019) │ 0      │ 10     │\n",
       "│ 11  │ The zoya factor (2019)          │ 10     │ 0      │\n",
       "│ 12  │ Made in china (2019)            │ 10     │ 0      │\n",
       "│ 13  │ housefull 4(2019)               │ 10     │ 0      │\n",
       "│ 14  │ Badla (2019)                    │ 10     │ 0      │\n",
       "│ 15  │ Article 15 (2019)               │ 10     │ 0      │\n",
       "│ 16  │ kesari(2019)                    │ 10     │ 0      │\n",
       "│ 17  │ panipat (2019)                  │ 10     │ 0      │\n",
       "│ 18  │ petta(2019)                     │ 10     │ 0      │\n",
       "│ 19  │ Bypass road(2019)               │ 10     │ 0      │\n",
       "│ 20  │ manikarika (2019)               │ 10     │ 0      │"
      ]
     },
     "execution_count": 39,
     "metadata": {},
     "output_type": "execute_result"
    }
   ],
   "source": [
    "movies[:, [Symbol(\"Movie title\"), :Drama, :Kids]]"
   ]
  },
  {
   "cell_type": "code",
   "execution_count": 40,
   "metadata": {},
   "outputs": [
    {
     "data": {
      "text/html": [
       "<table class=\"data-frame\"><thead><tr><th></th><th>Movie title</th><th>Action</th><th>Animation</th></tr><tr><th></th><th>String</th><th>Int64?</th><th>Int64?</th></tr></thead><tbody><p>4 rows × 3 columns</p><tr><th>1</th><td>key (2019)</td><td>5</td><td>0</td></tr><tr><th>2</th><td>paharganj(2019)</td><td>3</td><td>0</td></tr><tr><th>3</th><td>kabir singh (2019)</td><td>6</td><td>0</td></tr><tr><th>4</th><td>shazam (2019)</td><td>10</td><td>0</td></tr></tbody></table>"
      ],
      "text/latex": [
       "\\begin{tabular}{r|ccc}\n",
       "\t& Movie title & Action & Animation\\\\\n",
       "\t\\hline\n",
       "\t& String & Int64? & Int64?\\\\\n",
       "\t\\hline\n",
       "\t1 & key (2019) & 5 & 0 \\\\\n",
       "\t2 & paharganj(2019) & 3 & 0 \\\\\n",
       "\t3 & kabir singh (2019) & 6 & 0 \\\\\n",
       "\t4 & shazam (2019) & 10 & 0 \\\\\n",
       "\\end{tabular}\n"
      ],
      "text/plain": [
       "4×3 DataFrame\n",
       "│ Row │ Movie title        │ Action │ Animation │\n",
       "│     │ \u001b[90mString\u001b[39m             │ \u001b[90mInt64?\u001b[39m │ \u001b[90mInt64?\u001b[39m    │\n",
       "├─────┼────────────────────┼────────┼───────────┤\n",
       "│ 1   │ key (2019)         │ 5      │ 0         │\n",
       "│ 2   │ paharganj(2019)    │ 3      │ 0         │\n",
       "│ 3   │ kabir singh (2019) │ 6      │ 0         │\n",
       "│ 4   │ shazam (2019)      │ 10     │ 0         │"
      ]
     },
     "execution_count": 40,
     "metadata": {},
     "output_type": "execute_result"
    }
   ],
   "source": [
    "animation_recommendations = action_and_animation[(action_and_animation[:Animation] .== 0) .&\n",
    "(action_and_animation[:Action] .> 0), :]"
   ]
  },
  {
   "cell_type": "code",
   "execution_count": 41,
   "metadata": {},
   "outputs": [
    {
     "data": {
      "text/html": [
       "<table class=\"data-frame\"><thead><tr><th></th><th>Movie title</th><th>Action</th><th>Animation</th></tr><tr><th></th><th>String</th><th>Int64?</th><th>Int64?</th></tr></thead><tbody><p>1 rows × 3 columns</p><tr><th>1</th><td>shazam (2019)</td><td>10</td><td>0</td></tr></tbody></table>"
      ],
      "text/latex": [
       "\\begin{tabular}{r|ccc}\n",
       "\t& Movie title & Action & Animation\\\\\n",
       "\t\\hline\n",
       "\t& String & Int64? & Int64?\\\\\n",
       "\t\\hline\n",
       "\t1 & shazam (2019) & 10 & 0 \\\\\n",
       "\\end{tabular}\n"
      ],
      "text/plain": [
       "1×3 DataFrame\n",
       "│ Row │ Movie title   │ Action │ Animation │\n",
       "│     │ \u001b[90mString\u001b[39m        │ \u001b[90mInt64?\u001b[39m │ \u001b[90mInt64?\u001b[39m    │\n",
       "├─────┼───────────────┼────────┼───────────┤\n",
       "│ 1   │ shazam (2019) │ 10     │ 0         │"
      ]
     },
     "execution_count": 41,
     "metadata": {},
     "output_type": "execute_result"
    }
   ],
   "source": [
    "animation_recommendations = action_and_animation[(action_and_animation[:Animation] .== 0) .&\n",
    "(action_and_animation[:Action] .>= 7 ), :]"
   ]
  }
 ],
 "metadata": {
  "kernelspec": {
   "display_name": "Julia 1.5.2",
   "language": "julia",
   "name": "julia-1.5"
  },
  "language_info": {
   "file_extension": ".jl",
   "mimetype": "application/julia",
   "name": "julia",
   "version": "1.5.2"
  }
 },
 "nbformat": 4,
 "nbformat_minor": 4
}
